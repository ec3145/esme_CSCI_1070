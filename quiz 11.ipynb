{
 "cells": [
  {
   "cell_type": "code",
   "execution_count": 5,
   "metadata": {},
   "outputs": [
    {
     "name": "stdout",
     "output_type": "stream",
     "text": [
      "['a', 'b']\n"
     ]
    }
   ],
   "source": [
    "def filter_values(values):\n",
    "    non_numeric= [value for value in values if not isinstance(value,(int, float))]\n",
    "    return non_numeric\n",
    "\n",
    "list = [1,2,'a','b',7.6]\n",
    "filtered_list = filter_values(list)\n",
    "print(filtered_list)"
   ]
  },
  {
   "cell_type": "code",
   "execution_count": 24,
   "metadata": {},
   "outputs": [
    {
     "name": "stdout",
     "output_type": "stream",
     "text": [
      "1\n",
      "2\n",
      "3; Fizz\n",
      "4\n",
      "5\n",
      "6; Fizz\n",
      "7\n",
      "8\n",
      "9; Fizz\n",
      "10\n",
      "11\n",
      "12; Fizz\n",
      "13\n",
      "14\n",
      "15; FizzBuzz\n",
      "16\n",
      "17\n",
      "18; Fizz\n",
      "19\n",
      "20\n"
     ]
    }
   ],
   "source": [
    "def fizzbuzz(n=100):\n",
    "    result = []\n",
    "    for i in range (1, n + 1):\n",
    "        if i % 3 == 0 and i % 5 == 0:\n",
    "            result.append(f\"{i}; FizzBuzz\")\n",
    "        elif i % 3 == 0:\n",
    "            result.append(f\"{i}; Fizz\")\n",
    "        elif 1 % 5 == 0:\n",
    "            result.append(f\"{i}; Buzz\")\n",
    "        else:\n",
    "            result.append(str(i))\n",
    "\n",
    "    return result\n",
    "\n",
    "fizzbuzz_result = fizzbuzz(20)\n",
    "for item in fizzbuzz_result:\n",
    "    print(item)"
   ]
  },
  {
   "cell_type": "code",
   "execution_count": null,
   "metadata": {},
   "outputs": [],
   "source": []
  }
 ],
 "metadata": {
  "kernelspec": {
   "display_name": "Python 3",
   "language": "python",
   "name": "python3"
  },
  "language_info": {
   "codemirror_mode": {
    "name": "ipython",
    "version": 3
   },
   "file_extension": ".py",
   "mimetype": "text/x-python",
   "name": "python",
   "nbconvert_exporter": "python",
   "pygments_lexer": "ipython3",
   "version": "3.9.11"
  }
 },
 "nbformat": 4,
 "nbformat_minor": 2
}
