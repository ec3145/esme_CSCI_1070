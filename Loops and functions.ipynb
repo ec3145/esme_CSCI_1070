{
 "cells": [
  {
   "cell_type": "markdown",
   "id": "f8caa79b-300d-4b1d-8713-55cfe16eb620",
   "metadata": {},
   "source": [
    "Loops and  Functions"
   ]
  },
  {
   "cell_type": "code",
   "execution_count": 2,
   "id": "d7b79ff8-cb31-4a1a-9928-c4f1f4d54f6c",
   "metadata": {},
   "outputs": [
    {
     "name": "stdout",
     "output_type": "stream",
     "text": [
      "a is greater\n"
     ]
    }
   ],
   "source": [
    "# loops are flow control, Changes how code executes iteratively, how data moves \n",
    "#through the application\n",
    "#if...(elif...else)\n",
    "#if and else are optional, depends in waht youre trying to do\n",
    "# if a equals b, return \"they are equal\" if a is greater that b \"a is greater\"\n",
    "# and if b is greater than a, return \"b is greater\"\n",
    "\n",
    "# == is comparing whereas = is setting something equal to soemthing else (assinging a variable)\n",
    "a = 20\n",
    "b = 5\n",
    "if a == b:\n",
    "    print(\"they are equal\")\n",
    "elif a>b:\n",
    "    print(\"a is greater\")\n",
    "elif b>a:\n",
    "    print(\"b is greater\")"
   ]
  },
  {
   "cell_type": "code",
   "execution_count": 5,
   "id": "0226a7bf-ba4d-4f34-b279-e2ac3879b858",
   "metadata": {},
   "outputs": [
    {
     "name": "stdout",
     "output_type": "stream",
     "text": [
      "7\n",
      "6\n"
     ]
    }
   ],
   "source": [
    "# while loops\n",
    "# repeatedly tets an expression and continue to run whatever is in the loop\n",
    "#until a stopping conditon is met\n",
    "x = 7\n",
    "while x > 5:\n",
    "    print(x)\n",
    "    #decerement our x so it can stop\n",
    "    # x = x =1\n",
    "    x-=1"
   ]
  },
  {
   "cell_type": "code",
   "execution_count": 6,
   "id": "6155acf0-f46f-412e-a430-f7a16cc8dd82",
   "metadata": {},
   "outputs": [
    {
     "name": "stdout",
     "output_type": "stream",
     "text": [
      "3\n",
      "4\n",
      "5\n",
      "6\n",
      "7\n",
      "8\n",
      "9\n"
     ]
    }
   ],
   "source": [
    "# create as scenario where x starts at 3 and is incremented by 1\n",
    "# your print the value of x while x is less than 10\n",
    "\n",
    "x=3 \n",
    "while x < 10:\n",
    "    print(x)\n",
    "    x = x+1"
   ]
  },
  {
   "cell_type": "code",
   "execution_count": 10,
   "id": "59ca2040-8778-441f-9cfb-ca292fc908e4",
   "metadata": {},
   "outputs": [
    {
     "name": "stdout",
     "output_type": "stream",
     "text": [
      "Dexter\n",
      "grumpy\n",
      "pete\n",
      "dotty\n",
      "fluffy\n"
     ]
    }
   ],
   "source": [
    "# for loop\n",
    "# lists values in a list\n",
    "\n",
    "cats = [\"Dexter\",\"grumpy\",\"pete\",\"dotty\",\"fluffy\"]\n",
    "for turtles in cats: \n",
    "    print(turtles)"
   ]
  },
  {
   "cell_type": "code",
   "execution_count": 12,
   "id": "c83e2d2a-488e-4f2a-ae94-2b10898a0dfe",
   "metadata": {},
   "outputs": [
    {
     "name": "stdout",
     "output_type": "stream",
     "text": [
      "1\n",
      "2\n",
      "3\n",
      "4\n",
      "5\n",
      "6\n",
      "7\n",
      "8\n",
      "9\n",
      "10\n"
     ]
    }
   ],
   "source": [
    "# range(start, stop[, step])\n",
    "# stop is exclusive, so its not included\n",
    "for r in range (1, 10+1):\n",
    "    print(r)"
   ]
  },
  {
   "cell_type": "code",
   "execution_count": 13,
   "id": "833dec77-1274-4fb3-9990-6f88541a9545",
   "metadata": {},
   "outputs": [
    {
     "name": "stdout",
     "output_type": "stream",
     "text": [
      "1\n",
      "3\n",
      "5\n",
      "7\n",
      "9\n"
     ]
    }
   ],
   "source": [
    "for r in range(1, 10+1, 2):\n",
    "    print(r)"
   ]
  },
  {
   "cell_type": "code",
   "execution_count": 20,
   "id": "ebe650c9-ae39-4915-b399-81d147fd3d32",
   "metadata": {},
   "outputs": [],
   "source": [
    "#if we want our code to be reusable, we use a function\n",
    "# any variable we use in the function need to be passed in \n",
    "#or defined inside the function itself\n",
    "def comparison (a,b):\n",
    "    if a == b:\n",
    "        print(\"they are equal\")\n",
    "    elif a>b:    \n",
    "        print(\"a is greater\")\n",
    "    elif b>a:\n",
    "        print(\"b is greater\")"
   ]
  },
  {
   "cell_type": "code",
   "execution_count": 19,
   "id": "bbce7f07-4f1f-4800-bcdb-5abb141a1e9c",
   "metadata": {},
   "outputs": [
    {
     "ename": "TypeError",
     "evalue": "comparison() missing 1 required positional argument: 'b'",
     "output_type": "error",
     "traceback": [
      "\u001b[1;31m---------------------------------------------------------------------------\u001b[0m",
      "\u001b[1;31mTypeError\u001b[0m                                 Traceback (most recent call last)",
      "Cell \u001b[1;32mIn[19], line 2\u001b[0m\n\u001b[0;32m      1\u001b[0m b \u001b[38;5;241m=\u001b[39m \u001b[38;5;241m10\u001b[39m\n\u001b[1;32m----> 2\u001b[0m \u001b[43mcomparison\u001b[49m\u001b[43m(\u001b[49m\u001b[38;5;241;43m14\u001b[39;49m\u001b[43m)\u001b[49m\n",
      "\u001b[1;31mTypeError\u001b[0m: comparison() missing 1 required positional argument: 'b'"
     ]
    }
   ],
   "source": [
    "comparison(14)\n"
   ]
  },
  {
   "cell_type": "code",
   "execution_count": null,
   "id": "bc9434a0-288b-4f56-a43e-168ad59ac94b",
   "metadata": {},
   "outputs": [],
   "source": []
  }
 ],
 "metadata": {
  "kernelspec": {
   "display_name": "Python 3 (ipykernel)",
   "language": "python",
   "name": "python3"
  },
  "language_info": {
   "codemirror_mode": {
    "name": "ipython",
    "version": 3
   },
   "file_extension": ".py",
   "mimetype": "text/x-python",
   "name": "python",
   "nbconvert_exporter": "python",
   "pygments_lexer": "ipython3",
   "version": "3.9.11"
  }
 },
 "nbformat": 4,
 "nbformat_minor": 5
}
