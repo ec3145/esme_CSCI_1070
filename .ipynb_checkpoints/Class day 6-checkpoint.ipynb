{
 "cells": [
  {
   "cell_type": "code",
   "execution_count": 3,
   "id": "50a438d1-0235-46c6-899d-157d41d222df",
   "metadata": {},
   "outputs": [],
   "source": [
    "#we give these an alias (ex: np, pd)\n",
    "import numpy as np\n",
    "import pandas as pd\n",
    "\n",
    "#modules for statistics; some dont need alias\n",
    "import math \n",
    "import statistics\n",
    "#sub-module; bc itll take to much space\n",
    "from scipy import stats"
   ]
  },
  {
   "cell_type": "markdown",
   "id": "69f0e700-6b8d-463d-82f6-b753319e435d",
   "metadata": {},
   "source": [
    "#mean, median, mode, and central tendency\n",
    "\n",
    "#mean = average, balance point = sum of all the numbers/total number of values = arithmetic mean\n",
    "\n",
    "#median = middle number when all the values are put in order. IF there is an odd number\n",
    "#of values the median is one number. IF there is an even number of numbers\n",
    "#you take the middle two and average them. outliers do not impact the median very much\n",
    "\n",
    "#mode = number that occurs the most often\n",
    "\n",
    "#central tendency = a single value that attempts to descirbe the whole set of data\n",
    "#This number represents the middle or center of its distribution."
   ]
  },
  {
   "cell_type": "code",
   "execution_count": 7,
   "id": "e47db4b1-ae12-473d-8b46-08c74cc32a89",
   "metadata": {},
   "outputs": [
    {
     "data": {
      "text/html": [
       "<div>\n",
       "<style scoped>\n",
       "    .dataframe tbody tr th:only-of-type {\n",
       "        vertical-align: middle;\n",
       "    }\n",
       "\n",
       "    .dataframe tbody tr th {\n",
       "        vertical-align: top;\n",
       "    }\n",
       "\n",
       "    .dataframe thead th {\n",
       "        text-align: right;\n",
       "    }\n",
       "</style>\n",
       "<table border=\"1\" class=\"dataframe\">\n",
       "  <thead>\n",
       "    <tr style=\"text-align: right;\">\n",
       "      <th></th>\n",
       "      <th>id</th>\n",
       "      <th>name</th>\n",
       "      <th>host_id</th>\n",
       "      <th>host_name</th>\n",
       "      <th>neighbourhood_group</th>\n",
       "      <th>neighbourhood</th>\n",
       "      <th>latitude</th>\n",
       "      <th>longitude</th>\n",
       "      <th>room_type</th>\n",
       "      <th>price</th>\n",
       "      <th>minimum_nights</th>\n",
       "      <th>number_of_reviews</th>\n",
       "      <th>last_review</th>\n",
       "      <th>reviews_per_month</th>\n",
       "      <th>calculated_host_listings_count</th>\n",
       "      <th>availability_365</th>\n",
       "    </tr>\n",
       "  </thead>\n",
       "  <tbody>\n",
       "    <tr>\n",
       "      <th>2791</th>\n",
       "      <td>48283996</td>\n",
       "      <td>Magical Island</td>\n",
       "      <td>17994012</td>\n",
       "      <td>Ronald</td>\n",
       "      <td>Belize</td>\n",
       "      <td>Belize Islands</td>\n",
       "      <td>17.945690</td>\n",
       "      <td>-87.944620</td>\n",
       "      <td>Entire home/apt</td>\n",
       "      <td>1054</td>\n",
       "      <td>3</td>\n",
       "      <td>0</td>\n",
       "      <td>NaN</td>\n",
       "      <td>NaN</td>\n",
       "      <td>2</td>\n",
       "      <td>347</td>\n",
       "    </tr>\n",
       "    <tr>\n",
       "      <th>2792</th>\n",
       "      <td>48287613</td>\n",
       "      <td>The Luxury Suite - Corozal, Bz- 3Bdr/2bthr CASA1</td>\n",
       "      <td>375769845</td>\n",
       "      <td>Michael</td>\n",
       "      <td>Corozal</td>\n",
       "      <td>Corozal</td>\n",
       "      <td>18.374630</td>\n",
       "      <td>-88.400190</td>\n",
       "      <td>Entire home/apt</td>\n",
       "      <td>401</td>\n",
       "      <td>3</td>\n",
       "      <td>0</td>\n",
       "      <td>NaN</td>\n",
       "      <td>NaN</td>\n",
       "      <td>2</td>\n",
       "      <td>302</td>\n",
       "    </tr>\n",
       "    <tr>\n",
       "      <th>2793</th>\n",
       "      <td>48296096</td>\n",
       "      <td>Lagoon front apartment w/shared pool -  two mi...</td>\n",
       "      <td>76414486</td>\n",
       "      <td>Vacasa Belize</td>\n",
       "      <td>Belize</td>\n",
       "      <td>Belize Islands</td>\n",
       "      <td>17.934580</td>\n",
       "      <td>-87.955220</td>\n",
       "      <td>Entire home/apt</td>\n",
       "      <td>252</td>\n",
       "      <td>1</td>\n",
       "      <td>0</td>\n",
       "      <td>NaN</td>\n",
       "      <td>NaN</td>\n",
       "      <td>204</td>\n",
       "      <td>364</td>\n",
       "    </tr>\n",
       "    <tr>\n",
       "      <th>2794</th>\n",
       "      <td>48296978</td>\n",
       "      <td>Beachfront Poolside Condo</td>\n",
       "      <td>15308338</td>\n",
       "      <td>Alexandra</td>\n",
       "      <td>Belize</td>\n",
       "      <td>Belize Islands</td>\n",
       "      <td>17.930010</td>\n",
       "      <td>-87.957120</td>\n",
       "      <td>Entire home/apt</td>\n",
       "      <td>242</td>\n",
       "      <td>3</td>\n",
       "      <td>0</td>\n",
       "      <td>NaN</td>\n",
       "      <td>NaN</td>\n",
       "      <td>4</td>\n",
       "      <td>364</td>\n",
       "    </tr>\n",
       "    <tr>\n",
       "      <th>2795</th>\n",
       "      <td>48332221</td>\n",
       "      <td>Standard Room - San Ignacio Resort Hotel</td>\n",
       "      <td>60399527</td>\n",
       "      <td>San Ignacio</td>\n",
       "      <td>Cayo</td>\n",
       "      <td>Cayo</td>\n",
       "      <td>17.154127</td>\n",
       "      <td>-89.069689</td>\n",
       "      <td>Private room</td>\n",
       "      <td>226</td>\n",
       "      <td>1</td>\n",
       "      <td>0</td>\n",
       "      <td>NaN</td>\n",
       "      <td>NaN</td>\n",
       "      <td>5</td>\n",
       "      <td>365</td>\n",
       "    </tr>\n",
       "  </tbody>\n",
       "</table>\n",
       "</div>"
      ],
      "text/plain": [
       "            id                                               name    host_id  \\\n",
       "2791  48283996                                     Magical Island   17994012   \n",
       "2792  48287613   The Luxury Suite - Corozal, Bz- 3Bdr/2bthr CASA1  375769845   \n",
       "2793  48296096  Lagoon front apartment w/shared pool -  two mi...   76414486   \n",
       "2794  48296978                          Beachfront Poolside Condo   15308338   \n",
       "2795  48332221           Standard Room - San Ignacio Resort Hotel   60399527   \n",
       "\n",
       "          host_name neighbourhood_group   neighbourhood   latitude  longitude  \\\n",
       "2791         Ronald              Belize  Belize Islands  17.945690 -87.944620   \n",
       "2792        Michael             Corozal         Corozal  18.374630 -88.400190   \n",
       "2793  Vacasa Belize              Belize  Belize Islands  17.934580 -87.955220   \n",
       "2794      Alexandra              Belize  Belize Islands  17.930010 -87.957120   \n",
       "2795    San Ignacio                Cayo            Cayo  17.154127 -89.069689   \n",
       "\n",
       "            room_type  price  minimum_nights  number_of_reviews last_review  \\\n",
       "2791  Entire home/apt   1054               3                  0         NaN   \n",
       "2792  Entire home/apt    401               3                  0         NaN   \n",
       "2793  Entire home/apt    252               1                  0         NaN   \n",
       "2794  Entire home/apt    242               3                  0         NaN   \n",
       "2795     Private room    226               1                  0         NaN   \n",
       "\n",
       "      reviews_per_month  calculated_host_listings_count  availability_365  \n",
       "2791                NaN                               2               347  \n",
       "2792                NaN                               2               302  \n",
       "2793                NaN                             204               364  \n",
       "2794                NaN                               4               364  \n",
       "2795                NaN                               5               365  "
      ]
     },
     "execution_count": 7,
     "metadata": {},
     "output_type": "execute_result"
    }
   ],
   "source": [
    "belize_listings_path = \"belize_airbnb_listings.csv\"\n",
    "belize_df = pd.read_csv(belize_listings_path)\n",
    "\n",
    "#belize_df.head()\n",
    "belize_df.tail()\n"
   ]
  },
  {
   "cell_type": "code",
   "execution_count": 8,
   "id": "633139a5-d0d3-4fae-a32a-1458e8ecb549",
   "metadata": {},
   "outputs": [
    {
     "data": {
      "text/html": [
       "<div>\n",
       "<style scoped>\n",
       "    .dataframe tbody tr th:only-of-type {\n",
       "        vertical-align: middle;\n",
       "    }\n",
       "\n",
       "    .dataframe tbody tr th {\n",
       "        vertical-align: top;\n",
       "    }\n",
       "\n",
       "    .dataframe thead th {\n",
       "        text-align: right;\n",
       "    }\n",
       "</style>\n",
       "<table border=\"1\" class=\"dataframe\">\n",
       "  <thead>\n",
       "    <tr style=\"text-align: right;\">\n",
       "      <th></th>\n",
       "      <th>id</th>\n",
       "      <th>host_id</th>\n",
       "      <th>latitude</th>\n",
       "      <th>longitude</th>\n",
       "      <th>price</th>\n",
       "      <th>minimum_nights</th>\n",
       "      <th>number_of_reviews</th>\n",
       "      <th>reviews_per_month</th>\n",
       "      <th>calculated_host_listings_count</th>\n",
       "      <th>availability_365</th>\n",
       "    </tr>\n",
       "  </thead>\n",
       "  <tbody>\n",
       "    <tr>\n",
       "      <th>count</th>\n",
       "      <td>2.796000e+03</td>\n",
       "      <td>2.796000e+03</td>\n",
       "      <td>2796.000000</td>\n",
       "      <td>2796.000000</td>\n",
       "      <td>2796.000000</td>\n",
       "      <td>2796.000000</td>\n",
       "      <td>2796.000000</td>\n",
       "      <td>1810.000000</td>\n",
       "      <td>2796.000000</td>\n",
       "      <td>2796.000000</td>\n",
       "    </tr>\n",
       "    <tr>\n",
       "      <th>mean</th>\n",
       "      <td>2.792490e+07</td>\n",
       "      <td>1.240278e+08</td>\n",
       "      <td>17.448295</td>\n",
       "      <td>-88.292035</td>\n",
       "      <td>357.102289</td>\n",
       "      <td>2.263948</td>\n",
       "      <td>14.453505</td>\n",
       "      <td>0.538088</td>\n",
       "      <td>22.848355</td>\n",
       "      <td>280.315451</td>\n",
       "    </tr>\n",
       "    <tr>\n",
       "      <th>std</th>\n",
       "      <td>1.288964e+07</td>\n",
       "      <td>1.018001e+08</td>\n",
       "      <td>0.537440</td>\n",
       "      <td>0.383876</td>\n",
       "      <td>563.124825</td>\n",
       "      <td>5.669843</td>\n",
       "      <td>30.327768</td>\n",
       "      <td>0.662154</td>\n",
       "      <td>51.711183</td>\n",
       "      <td>120.617632</td>\n",
       "    </tr>\n",
       "    <tr>\n",
       "      <th>min</th>\n",
       "      <td>3.666600e+04</td>\n",
       "      <td>1.507890e+05</td>\n",
       "      <td>16.079260</td>\n",
       "      <td>-89.150680</td>\n",
       "      <td>20.000000</td>\n",
       "      <td>1.000000</td>\n",
       "      <td>0.000000</td>\n",
       "      <td>0.010000</td>\n",
       "      <td>1.000000</td>\n",
       "      <td>0.000000</td>\n",
       "    </tr>\n",
       "    <tr>\n",
       "      <th>25%</th>\n",
       "      <td>1.870854e+07</td>\n",
       "      <td>4.389292e+07</td>\n",
       "      <td>17.129573</td>\n",
       "      <td>-88.371015</td>\n",
       "      <td>135.000000</td>\n",
       "      <td>1.000000</td>\n",
       "      <td>0.000000</td>\n",
       "      <td>0.110000</td>\n",
       "      <td>2.000000</td>\n",
       "      <td>221.000000</td>\n",
       "    </tr>\n",
       "    <tr>\n",
       "      <th>50%</th>\n",
       "      <td>2.891586e+07</td>\n",
       "      <td>9.171577e+07</td>\n",
       "      <td>17.735145</td>\n",
       "      <td>-88.205560</td>\n",
       "      <td>220.000000</td>\n",
       "      <td>2.000000</td>\n",
       "      <td>2.000000</td>\n",
       "      <td>0.275000</td>\n",
       "      <td>6.000000</td>\n",
       "      <td>349.000000</td>\n",
       "    </tr>\n",
       "    <tr>\n",
       "      <th>75%</th>\n",
       "      <td>3.977962e+07</td>\n",
       "      <td>1.875677e+08</td>\n",
       "      <td>17.913837</td>\n",
       "      <td>-87.973793</td>\n",
       "      <td>394.250000</td>\n",
       "      <td>3.000000</td>\n",
       "      <td>13.000000</td>\n",
       "      <td>0.700000</td>\n",
       "      <td>14.000000</td>\n",
       "      <td>364.000000</td>\n",
       "    </tr>\n",
       "    <tr>\n",
       "      <th>max</th>\n",
       "      <td>4.833222e+07</td>\n",
       "      <td>3.890334e+08</td>\n",
       "      <td>18.468140</td>\n",
       "      <td>-87.593140</td>\n",
       "      <td>11788.000000</td>\n",
       "      <td>180.000000</td>\n",
       "      <td>316.000000</td>\n",
       "      <td>5.920000</td>\n",
       "      <td>204.000000</td>\n",
       "      <td>365.000000</td>\n",
       "    </tr>\n",
       "  </tbody>\n",
       "</table>\n",
       "</div>"
      ],
      "text/plain": [
       "                 id       host_id     latitude    longitude         price  \\\n",
       "count  2.796000e+03  2.796000e+03  2796.000000  2796.000000   2796.000000   \n",
       "mean   2.792490e+07  1.240278e+08    17.448295   -88.292035    357.102289   \n",
       "std    1.288964e+07  1.018001e+08     0.537440     0.383876    563.124825   \n",
       "min    3.666600e+04  1.507890e+05    16.079260   -89.150680     20.000000   \n",
       "25%    1.870854e+07  4.389292e+07    17.129573   -88.371015    135.000000   \n",
       "50%    2.891586e+07  9.171577e+07    17.735145   -88.205560    220.000000   \n",
       "75%    3.977962e+07  1.875677e+08    17.913837   -87.973793    394.250000   \n",
       "max    4.833222e+07  3.890334e+08    18.468140   -87.593140  11788.000000   \n",
       "\n",
       "       minimum_nights  number_of_reviews  reviews_per_month  \\\n",
       "count     2796.000000        2796.000000        1810.000000   \n",
       "mean         2.263948          14.453505           0.538088   \n",
       "std          5.669843          30.327768           0.662154   \n",
       "min          1.000000           0.000000           0.010000   \n",
       "25%          1.000000           0.000000           0.110000   \n",
       "50%          2.000000           2.000000           0.275000   \n",
       "75%          3.000000          13.000000           0.700000   \n",
       "max        180.000000         316.000000           5.920000   \n",
       "\n",
       "       calculated_host_listings_count  availability_365  \n",
       "count                     2796.000000       2796.000000  \n",
       "mean                        22.848355        280.315451  \n",
       "std                         51.711183        120.617632  \n",
       "min                          1.000000          0.000000  \n",
       "25%                          2.000000        221.000000  \n",
       "50%                          6.000000        349.000000  \n",
       "75%                         14.000000        364.000000  \n",
       "max                        204.000000        365.000000  "
      ]
     },
     "execution_count": 8,
     "metadata": {},
     "output_type": "execute_result"
    }
   ],
   "source": [
    "belize_df.describe()"
   ]
  },
  {
   "cell_type": "code",
   "execution_count": 9,
   "id": "28829743-83a6-4460-9d8b-f737da1bec9e",
   "metadata": {},
   "outputs": [
    {
     "data": {
      "text/plain": [
       "price                357.102289\n",
       "minimum_nights         2.263948\n",
       "number_of_reviews     14.453505\n",
       "dtype: float64"
      ]
     },
     "execution_count": 9,
     "metadata": {},
     "output_type": "execute_result"
    }
   ],
   "source": [
    "# get mean of price, minimum_nights, and number_of_reviews\n",
    "\n",
    "belize_df[[\"price\",\"minimum_nights\",\"number_of_reviews\"]].mean()"
   ]
  },
  {
   "cell_type": "code",
   "execution_count": 10,
   "id": "528b4598-124f-4dc9-a6bc-ac49eff52cff",
   "metadata": {},
   "outputs": [
    {
     "data": {
      "text/plain": [
       "price                220.0\n",
       "minimum_nights         2.0\n",
       "number_of_reviews      2.0\n",
       "dtype: float64"
      ]
     },
     "execution_count": 10,
     "metadata": {},
     "output_type": "execute_result"
    }
   ],
   "source": [
    "belize_df[[\"price\",\"minimum_nights\",\"number_of_reviews\"]].median()\n",
    "#what do these medians say about the data?\n",
    "#mid range price of this, outliers can change mean so median is better bc gives a good view of prices etc"
   ]
  },
  {
   "cell_type": "code",
   "execution_count": 11,
   "id": "6d78dd20-77ae-49c8-bda3-925d6b5211c8",
   "metadata": {},
   "outputs": [
    {
     "data": {
      "text/html": [
       "<div>\n",
       "<style scoped>\n",
       "    .dataframe tbody tr th:only-of-type {\n",
       "        vertical-align: middle;\n",
       "    }\n",
       "\n",
       "    .dataframe tbody tr th {\n",
       "        vertical-align: top;\n",
       "    }\n",
       "\n",
       "    .dataframe thead th {\n",
       "        text-align: right;\n",
       "    }\n",
       "</style>\n",
       "<table border=\"1\" class=\"dataframe\">\n",
       "  <thead>\n",
       "    <tr style=\"text-align: right;\">\n",
       "      <th></th>\n",
       "      <th>price</th>\n",
       "      <th>minimum_nights</th>\n",
       "      <th>number_of_reviews</th>\n",
       "    </tr>\n",
       "  </thead>\n",
       "  <tbody>\n",
       "    <tr>\n",
       "      <th>0</th>\n",
       "      <td>151</td>\n",
       "      <td>1.0</td>\n",
       "      <td>0.0</td>\n",
       "    </tr>\n",
       "    <tr>\n",
       "      <th>1</th>\n",
       "      <td>252</td>\n",
       "      <td>NaN</td>\n",
       "      <td>NaN</td>\n",
       "    </tr>\n",
       "  </tbody>\n",
       "</table>\n",
       "</div>"
      ],
      "text/plain": [
       "   price  minimum_nights  number_of_reviews\n",
       "0    151             1.0                0.0\n",
       "1    252             NaN                NaN"
      ]
     },
     "execution_count": 11,
     "metadata": {},
     "output_type": "execute_result"
    }
   ],
   "source": [
    "belize_df[[\"price\",\"minimum_nights\",\"number_of_reviews\"]].mode()"
   ]
  },
  {
   "cell_type": "code",
   "execution_count": 13,
   "id": "c8c281c2-be0d-43f4-b517-5be14878b01e",
   "metadata": {},
   "outputs": [
    {
     "ename": "SyntaxError",
     "evalue": "positional argument follows keyword argument (1124500760.py, line 4)",
     "output_type": "error",
     "traceback": [
      "\u001b[1;36m  Cell \u001b[1;32mIn[13], line 4\u001b[1;36m\u001b[0m\n\u001b[1;33m    plt.xlabel\u001b[0m\n\u001b[1;37m    ^\u001b[0m\n\u001b[1;31mSyntaxError\u001b[0m\u001b[1;31m:\u001b[0m positional argument follows keyword argument\n"
     ]
    }
   ],
   "source": [
    "import matplotlib.pyplot as plt\n",
    "#histograms is just looking as freq so we dont need a y axis\n",
    "n, bins, patches = plt.hist(x=belize_df['price'],bins\n",
    "plt.xlabel\n",
    "plt.ylabel"
   ]
  },
  {
   "cell_type": "markdown",
   "id": "b6622aa5-da43-49a6-a34e-1a9aa18ddbfa",
   "metadata": {},
   "source": [
    "#variance\n",
    "\n",
    "variance measures how dispersed data points are from the mean. low variance means the data points are tightly clustered around the mean. high variance means the data points are spread out from the mean\n",
    "\n",
    "\n",
    "variance is like syaing the data points \n",
    "\n",
    "degrees of\n"
   ]
  },
  {
   "cell_type": "code",
   "execution_count": 16,
   "id": "3621e321-5965-455f-954c-0e60521c1292",
   "metadata": {},
   "outputs": [
    {
     "ename": "SyntaxError",
     "evalue": "invalid syntax (4260637699.py, line 4)",
     "output_type": "error",
     "traceback": [
      "\u001b[1;36m  Cell \u001b[1;32mIn[16], line 4\u001b[1;36m\u001b[0m\n\u001b[1;33m    variance = sum((x = mean))**2 for xin data)/(n = ddof)\u001b[0m\n\u001b[1;37m                      ^\u001b[0m\n\u001b[1;31mSyntaxError\u001b[0m\u001b[1;31m:\u001b[0m invalid syntax\n"
     ]
    }
   ],
   "source": [
    "def variance(data, ddof=0):\n",
    "    n=len(data)\n",
    "    mean = sum(data)/n\n",
    "    variance = sum((x = mean))**2 for xin data)/(n = ddof)\n",
    "    return variance"
   ]
  },
  {
   "cell_type": "code",
   "execution_count": 17,
   "id": "59da9b1e-f1ce-4888-8b67-d810978c5fc5",
   "metadata": {},
   "outputs": [
    {
     "ename": "NameError",
     "evalue": "name 'variance' is not defined",
     "output_type": "error",
     "traceback": [
      "\u001b[1;31m---------------------------------------------------------------------------\u001b[0m",
      "\u001b[1;31mNameError\u001b[0m                                 Traceback (most recent call last)",
      "Cell \u001b[1;32mIn[17], line 2\u001b[0m\n\u001b[0;32m      1\u001b[0m \u001b[38;5;66;03m#variance - 1 DOF if a sample but 0 if a population\u001b[39;00m\n\u001b[1;32m----> 2\u001b[0m \u001b[43mvariance\u001b[49m(belize_df[\u001b[38;5;124m'\u001b[39m\u001b[38;5;124mprice\u001b[39m\u001b[38;5;124m'\u001b[39m])\n",
      "\u001b[1;31mNameError\u001b[0m: name 'variance' is not defined"
     ]
    }
   ],
   "source": [
    "#variance - 1 DOF if a sample but 0 if a population\n",
    "variance(belize_df['price'])"
   ]
  },
  {
   "cell_type": "code",
   "execution_count": 18,
   "id": "8660c653-1104-4824-a7bb-129cb95cbb9b",
   "metadata": {},
   "outputs": [
    {
     "data": {
      "text/plain": [
       "316996.15262709244"
      ]
     },
     "execution_count": 18,
     "metadata": {},
     "output_type": "execute_result"
    }
   ],
   "source": [
    "statistics.pvariance(belize_df[\"price\"])"
   ]
  },
  {
   "cell_type": "code",
   "execution_count": 19,
   "id": "c7aa6000-b54a-4665-b581-639fe4044b9a",
   "metadata": {},
   "outputs": [
    {
     "data": {
      "text/plain": [
       "317109.568066315"
      ]
     },
     "execution_count": 19,
     "metadata": {},
     "output_type": "execute_result"
    }
   ],
   "source": [
    "# sample variance = 1 DOF\n",
    "# MOST OF WHAT WE DO IN CLASS WILL BE A SAMPLE\n",
    "statistics.variance(belize_df[\"price\"])"
   ]
  },
  {
   "cell_type": "code",
   "execution_count": 20,
   "id": "d34b2d32-fd5f-4189-b0a6-6b2a492f20d0",
   "metadata": {},
   "outputs": [],
   "source": [
    "#standard deviation\n",
    "\n",
    "#standar deviation is the square root of variance \n",
    "#why?bc sq dollars dont make sense. its hard to understand what that means, so we need to use units that make sense\n"
   ]
  },
  {
   "cell_type": "code",
   "execution_count": 22,
   "id": "4ea00cd0-081c-4e88-b98c-fd815bb9909c",
   "metadata": {},
   "outputs": [
    {
     "data": {
      "text/plain": [
       "563.1248245871558"
      ]
     },
     "execution_count": 22,
     "metadata": {},
     "output_type": "execute_result"
    }
   ],
   "source": [
    "statistics.stdev(belize_df[\"price\"])"
   ]
  },
  {
   "cell_type": "code",
   "execution_count": 23,
   "id": "50caa7ae-50aa-43fa-9127-10ee5052692e",
   "metadata": {},
   "outputs": [
    {
     "ename": "AttributeError",
     "evalue": "'price' is not a valid function for 'Series' object",
     "output_type": "error",
     "traceback": [
      "\u001b[1;31m---------------------------------------------------------------------------\u001b[0m",
      "\u001b[1;31mAttributeError\u001b[0m                            Traceback (most recent call last)",
      "Cell \u001b[1;32mIn[23], line 1\u001b[0m\n\u001b[1;32m----> 1\u001b[0m \u001b[43mbelize_df\u001b[49m\u001b[43m[\u001b[49m\u001b[43m[\u001b[49m\u001b[38;5;124;43m\"\u001b[39;49m\u001b[38;5;124;43mprice\u001b[39;49m\u001b[38;5;124;43m\"\u001b[39;49m\u001b[43m]\u001b[49m\u001b[43m]\u001b[49m\u001b[38;5;241;43m.\u001b[39;49m\u001b[43magg\u001b[49m\u001b[43m(\u001b[49m\u001b[43m[\u001b[49m\u001b[38;5;124;43m\"\u001b[39;49m\u001b[38;5;124;43mmean\u001b[39;49m\u001b[38;5;124;43m\"\u001b[39;49m\u001b[43m,\u001b[49m\u001b[38;5;124;43m\"\u001b[39;49m\u001b[38;5;124;43mprice\u001b[39;49m\u001b[38;5;124;43m\"\u001b[39;49m\u001b[43m]\u001b[49m\u001b[43m)\u001b[49m\n",
      "File \u001b[1;32mC:\\Python\\Python39\\lib\\site-packages\\pandas\\core\\frame.py:10149\u001b[0m, in \u001b[0;36mDataFrame.aggregate\u001b[1;34m(self, func, axis, *args, **kwargs)\u001b[0m\n\u001b[0;32m  10146\u001b[0m axis \u001b[38;5;241m=\u001b[39m \u001b[38;5;28mself\u001b[39m\u001b[38;5;241m.\u001b[39m_get_axis_number(axis)\n\u001b[0;32m  10148\u001b[0m op \u001b[38;5;241m=\u001b[39m frame_apply(\u001b[38;5;28mself\u001b[39m, func\u001b[38;5;241m=\u001b[39mfunc, axis\u001b[38;5;241m=\u001b[39maxis, args\u001b[38;5;241m=\u001b[39margs, kwargs\u001b[38;5;241m=\u001b[39mkwargs)\n\u001b[1;32m> 10149\u001b[0m result \u001b[38;5;241m=\u001b[39m \u001b[43mop\u001b[49m\u001b[38;5;241;43m.\u001b[39;49m\u001b[43magg\u001b[49m\u001b[43m(\u001b[49m\u001b[43m)\u001b[49m\n\u001b[0;32m  10150\u001b[0m result \u001b[38;5;241m=\u001b[39m reconstruct_and_relabel_result(result, func, \u001b[38;5;241m*\u001b[39m\u001b[38;5;241m*\u001b[39mkwargs)\n\u001b[0;32m  10151\u001b[0m \u001b[38;5;28;01mreturn\u001b[39;00m result\n",
      "File \u001b[1;32mC:\\Python\\Python39\\lib\\site-packages\\pandas\\core\\apply.py:928\u001b[0m, in \u001b[0;36mFrameApply.agg\u001b[1;34m(self)\u001b[0m\n\u001b[0;32m    926\u001b[0m result \u001b[38;5;241m=\u001b[39m \u001b[38;5;28;01mNone\u001b[39;00m\n\u001b[0;32m    927\u001b[0m \u001b[38;5;28;01mtry\u001b[39;00m:\n\u001b[1;32m--> 928\u001b[0m     result \u001b[38;5;241m=\u001b[39m \u001b[38;5;28;43msuper\u001b[39;49m\u001b[43m(\u001b[49m\u001b[43m)\u001b[49m\u001b[38;5;241;43m.\u001b[39;49m\u001b[43magg\u001b[49m\u001b[43m(\u001b[49m\u001b[43m)\u001b[49m\n\u001b[0;32m    929\u001b[0m \u001b[38;5;28;01mfinally\u001b[39;00m:\n\u001b[0;32m    930\u001b[0m     \u001b[38;5;28mself\u001b[39m\u001b[38;5;241m.\u001b[39mobj \u001b[38;5;241m=\u001b[39m obj\n",
      "File \u001b[1;32mC:\\Python\\Python39\\lib\\site-packages\\pandas\\core\\apply.py:193\u001b[0m, in \u001b[0;36mApply.agg\u001b[1;34m(self)\u001b[0m\n\u001b[0;32m    190\u001b[0m     \u001b[38;5;28;01mreturn\u001b[39;00m \u001b[38;5;28mself\u001b[39m\u001b[38;5;241m.\u001b[39magg_dict_like()\n\u001b[0;32m    191\u001b[0m \u001b[38;5;28;01melif\u001b[39;00m is_list_like(func):\n\u001b[0;32m    192\u001b[0m     \u001b[38;5;66;03m# we require a list, but not a 'str'\u001b[39;00m\n\u001b[1;32m--> 193\u001b[0m     \u001b[38;5;28;01mreturn\u001b[39;00m \u001b[38;5;28;43mself\u001b[39;49m\u001b[38;5;241;43m.\u001b[39;49m\u001b[43magg_list_like\u001b[49m\u001b[43m(\u001b[49m\u001b[43m)\u001b[49m\n\u001b[0;32m    195\u001b[0m \u001b[38;5;28;01mif\u001b[39;00m \u001b[38;5;28mcallable\u001b[39m(func):\n\u001b[0;32m    196\u001b[0m     f \u001b[38;5;241m=\u001b[39m com\u001b[38;5;241m.\u001b[39mget_cython_func(func)\n",
      "File \u001b[1;32mC:\\Python\\Python39\\lib\\site-packages\\pandas\\core\\apply.py:326\u001b[0m, in \u001b[0;36mApply.agg_list_like\u001b[1;34m(self)\u001b[0m\n\u001b[0;32m    318\u001b[0m \u001b[38;5;28;01mdef\u001b[39;00m \u001b[38;5;21magg_list_like\u001b[39m(\u001b[38;5;28mself\u001b[39m) \u001b[38;5;241m-\u001b[39m\u001b[38;5;241m>\u001b[39m DataFrame \u001b[38;5;241m|\u001b[39m Series:\n\u001b[0;32m    319\u001b[0m \u001b[38;5;250m    \u001b[39m\u001b[38;5;124;03m\"\"\"\u001b[39;00m\n\u001b[0;32m    320\u001b[0m \u001b[38;5;124;03m    Compute aggregation in the case of a list-like argument.\u001b[39;00m\n\u001b[0;32m    321\u001b[0m \n\u001b[1;32m   (...)\u001b[0m\n\u001b[0;32m    324\u001b[0m \u001b[38;5;124;03m    Result of aggregation.\u001b[39;00m\n\u001b[0;32m    325\u001b[0m \u001b[38;5;124;03m    \"\"\"\u001b[39;00m\n\u001b[1;32m--> 326\u001b[0m     \u001b[38;5;28;01mreturn\u001b[39;00m \u001b[38;5;28;43mself\u001b[39;49m\u001b[38;5;241;43m.\u001b[39;49m\u001b[43magg_or_apply_list_like\u001b[49m\u001b[43m(\u001b[49m\u001b[43mop_name\u001b[49m\u001b[38;5;241;43m=\u001b[39;49m\u001b[38;5;124;43m\"\u001b[39;49m\u001b[38;5;124;43magg\u001b[39;49m\u001b[38;5;124;43m\"\u001b[39;49m\u001b[43m)\u001b[49m\n",
      "File \u001b[1;32mC:\\Python\\Python39\\lib\\site-packages\\pandas\\core\\apply.py:744\u001b[0m, in \u001b[0;36mNDFrameApply.agg_or_apply_list_like\u001b[1;34m(self, op_name)\u001b[0m\n\u001b[0;32m    741\u001b[0m \u001b[38;5;28;01mif\u001b[39;00m \u001b[38;5;28mgetattr\u001b[39m(obj, \u001b[38;5;124m\"\u001b[39m\u001b[38;5;124maxis\u001b[39m\u001b[38;5;124m\"\u001b[39m, \u001b[38;5;241m0\u001b[39m) \u001b[38;5;241m==\u001b[39m \u001b[38;5;241m1\u001b[39m:\n\u001b[0;32m    742\u001b[0m     \u001b[38;5;28;01mraise\u001b[39;00m \u001b[38;5;167;01mNotImplementedError\u001b[39;00m(\u001b[38;5;124m\"\u001b[39m\u001b[38;5;124maxis other than 0 is not supported\u001b[39m\u001b[38;5;124m\"\u001b[39m)\n\u001b[1;32m--> 744\u001b[0m keys, results \u001b[38;5;241m=\u001b[39m \u001b[38;5;28;43mself\u001b[39;49m\u001b[38;5;241;43m.\u001b[39;49m\u001b[43mcompute_list_like\u001b[49m\u001b[43m(\u001b[49m\u001b[43mop_name\u001b[49m\u001b[43m,\u001b[49m\u001b[43m \u001b[49m\u001b[43mobj\u001b[49m\u001b[43m,\u001b[49m\u001b[43m \u001b[49m\u001b[43mkwargs\u001b[49m\u001b[43m)\u001b[49m\n\u001b[0;32m    745\u001b[0m result \u001b[38;5;241m=\u001b[39m \u001b[38;5;28mself\u001b[39m\u001b[38;5;241m.\u001b[39mwrap_results_list_like(keys, results)\n\u001b[0;32m    746\u001b[0m \u001b[38;5;28;01mreturn\u001b[39;00m result\n",
      "File \u001b[1;32mC:\\Python\\Python39\\lib\\site-packages\\pandas\\core\\apply.py:385\u001b[0m, in \u001b[0;36mApply.compute_list_like\u001b[1;34m(self, op_name, selected_obj, kwargs)\u001b[0m\n\u001b[0;32m    379\u001b[0m colg \u001b[38;5;241m=\u001b[39m obj\u001b[38;5;241m.\u001b[39m_gotitem(col, ndim\u001b[38;5;241m=\u001b[39m\u001b[38;5;241m1\u001b[39m, subset\u001b[38;5;241m=\u001b[39mselected_obj\u001b[38;5;241m.\u001b[39miloc[:, index])\n\u001b[0;32m    380\u001b[0m args \u001b[38;5;241m=\u001b[39m (\n\u001b[0;32m    381\u001b[0m     [\u001b[38;5;28mself\u001b[39m\u001b[38;5;241m.\u001b[39maxis, \u001b[38;5;241m*\u001b[39m\u001b[38;5;28mself\u001b[39m\u001b[38;5;241m.\u001b[39margs]\n\u001b[0;32m    382\u001b[0m     \u001b[38;5;28;01mif\u001b[39;00m include_axis(op_name, colg)\n\u001b[0;32m    383\u001b[0m     \u001b[38;5;28;01melse\u001b[39;00m \u001b[38;5;28mself\u001b[39m\u001b[38;5;241m.\u001b[39margs\n\u001b[0;32m    384\u001b[0m )\n\u001b[1;32m--> 385\u001b[0m new_res \u001b[38;5;241m=\u001b[39m \u001b[38;5;28mgetattr\u001b[39m(colg, op_name)(func, \u001b[38;5;241m*\u001b[39margs, \u001b[38;5;241m*\u001b[39m\u001b[38;5;241m*\u001b[39mkwargs)\n\u001b[0;32m    386\u001b[0m results\u001b[38;5;241m.\u001b[39mappend(new_res)\n\u001b[0;32m    387\u001b[0m indices\u001b[38;5;241m.\u001b[39mappend(index)\n",
      "File \u001b[1;32mC:\\Python\\Python39\\lib\\site-packages\\pandas\\core\\series.py:4766\u001b[0m, in \u001b[0;36mSeries.aggregate\u001b[1;34m(self, func, axis, *args, **kwargs)\u001b[0m\n\u001b[0;32m   4763\u001b[0m     func \u001b[38;5;241m=\u001b[39m \u001b[38;5;28mdict\u001b[39m(kwargs\u001b[38;5;241m.\u001b[39mitems())\n\u001b[0;32m   4765\u001b[0m op \u001b[38;5;241m=\u001b[39m SeriesApply(\u001b[38;5;28mself\u001b[39m, func, args\u001b[38;5;241m=\u001b[39margs, kwargs\u001b[38;5;241m=\u001b[39mkwargs)\n\u001b[1;32m-> 4766\u001b[0m result \u001b[38;5;241m=\u001b[39m \u001b[43mop\u001b[49m\u001b[38;5;241;43m.\u001b[39;49m\u001b[43magg\u001b[49m\u001b[43m(\u001b[49m\u001b[43m)\u001b[49m\n\u001b[0;32m   4767\u001b[0m \u001b[38;5;28;01mreturn\u001b[39;00m result\n",
      "File \u001b[1;32mC:\\Python\\Python39\\lib\\site-packages\\pandas\\core\\apply.py:1430\u001b[0m, in \u001b[0;36mSeriesApply.agg\u001b[1;34m(self)\u001b[0m\n\u001b[0;32m   1429\u001b[0m \u001b[38;5;28;01mdef\u001b[39;00m \u001b[38;5;21magg\u001b[39m(\u001b[38;5;28mself\u001b[39m):\n\u001b[1;32m-> 1430\u001b[0m     result \u001b[38;5;241m=\u001b[39m \u001b[38;5;28;43msuper\u001b[39;49m\u001b[43m(\u001b[49m\u001b[43m)\u001b[49m\u001b[38;5;241;43m.\u001b[39;49m\u001b[43magg\u001b[49m\u001b[43m(\u001b[49m\u001b[43m)\u001b[49m\n\u001b[0;32m   1431\u001b[0m     \u001b[38;5;28;01mif\u001b[39;00m result \u001b[38;5;129;01mis\u001b[39;00m \u001b[38;5;28;01mNone\u001b[39;00m:\n\u001b[0;32m   1432\u001b[0m         obj \u001b[38;5;241m=\u001b[39m \u001b[38;5;28mself\u001b[39m\u001b[38;5;241m.\u001b[39mobj\n",
      "File \u001b[1;32mC:\\Python\\Python39\\lib\\site-packages\\pandas\\core\\apply.py:193\u001b[0m, in \u001b[0;36mApply.agg\u001b[1;34m(self)\u001b[0m\n\u001b[0;32m    190\u001b[0m     \u001b[38;5;28;01mreturn\u001b[39;00m \u001b[38;5;28mself\u001b[39m\u001b[38;5;241m.\u001b[39magg_dict_like()\n\u001b[0;32m    191\u001b[0m \u001b[38;5;28;01melif\u001b[39;00m is_list_like(func):\n\u001b[0;32m    192\u001b[0m     \u001b[38;5;66;03m# we require a list, but not a 'str'\u001b[39;00m\n\u001b[1;32m--> 193\u001b[0m     \u001b[38;5;28;01mreturn\u001b[39;00m \u001b[38;5;28;43mself\u001b[39;49m\u001b[38;5;241;43m.\u001b[39;49m\u001b[43magg_list_like\u001b[49m\u001b[43m(\u001b[49m\u001b[43m)\u001b[49m\n\u001b[0;32m    195\u001b[0m \u001b[38;5;28;01mif\u001b[39;00m \u001b[38;5;28mcallable\u001b[39m(func):\n\u001b[0;32m    196\u001b[0m     f \u001b[38;5;241m=\u001b[39m com\u001b[38;5;241m.\u001b[39mget_cython_func(func)\n",
      "File \u001b[1;32mC:\\Python\\Python39\\lib\\site-packages\\pandas\\core\\apply.py:326\u001b[0m, in \u001b[0;36mApply.agg_list_like\u001b[1;34m(self)\u001b[0m\n\u001b[0;32m    318\u001b[0m \u001b[38;5;28;01mdef\u001b[39;00m \u001b[38;5;21magg_list_like\u001b[39m(\u001b[38;5;28mself\u001b[39m) \u001b[38;5;241m-\u001b[39m\u001b[38;5;241m>\u001b[39m DataFrame \u001b[38;5;241m|\u001b[39m Series:\n\u001b[0;32m    319\u001b[0m \u001b[38;5;250m    \u001b[39m\u001b[38;5;124;03m\"\"\"\u001b[39;00m\n\u001b[0;32m    320\u001b[0m \u001b[38;5;124;03m    Compute aggregation in the case of a list-like argument.\u001b[39;00m\n\u001b[0;32m    321\u001b[0m \n\u001b[1;32m   (...)\u001b[0m\n\u001b[0;32m    324\u001b[0m \u001b[38;5;124;03m    Result of aggregation.\u001b[39;00m\n\u001b[0;32m    325\u001b[0m \u001b[38;5;124;03m    \"\"\"\u001b[39;00m\n\u001b[1;32m--> 326\u001b[0m     \u001b[38;5;28;01mreturn\u001b[39;00m \u001b[38;5;28;43mself\u001b[39;49m\u001b[38;5;241;43m.\u001b[39;49m\u001b[43magg_or_apply_list_like\u001b[49m\u001b[43m(\u001b[49m\u001b[43mop_name\u001b[49m\u001b[38;5;241;43m=\u001b[39;49m\u001b[38;5;124;43m\"\u001b[39;49m\u001b[38;5;124;43magg\u001b[39;49m\u001b[38;5;124;43m\"\u001b[39;49m\u001b[43m)\u001b[49m\n",
      "File \u001b[1;32mC:\\Python\\Python39\\lib\\site-packages\\pandas\\core\\apply.py:744\u001b[0m, in \u001b[0;36mNDFrameApply.agg_or_apply_list_like\u001b[1;34m(self, op_name)\u001b[0m\n\u001b[0;32m    741\u001b[0m \u001b[38;5;28;01mif\u001b[39;00m \u001b[38;5;28mgetattr\u001b[39m(obj, \u001b[38;5;124m\"\u001b[39m\u001b[38;5;124maxis\u001b[39m\u001b[38;5;124m\"\u001b[39m, \u001b[38;5;241m0\u001b[39m) \u001b[38;5;241m==\u001b[39m \u001b[38;5;241m1\u001b[39m:\n\u001b[0;32m    742\u001b[0m     \u001b[38;5;28;01mraise\u001b[39;00m \u001b[38;5;167;01mNotImplementedError\u001b[39;00m(\u001b[38;5;124m\"\u001b[39m\u001b[38;5;124maxis other than 0 is not supported\u001b[39m\u001b[38;5;124m\"\u001b[39m)\n\u001b[1;32m--> 744\u001b[0m keys, results \u001b[38;5;241m=\u001b[39m \u001b[38;5;28;43mself\u001b[39;49m\u001b[38;5;241;43m.\u001b[39;49m\u001b[43mcompute_list_like\u001b[49m\u001b[43m(\u001b[49m\u001b[43mop_name\u001b[49m\u001b[43m,\u001b[49m\u001b[43m \u001b[49m\u001b[43mobj\u001b[49m\u001b[43m,\u001b[49m\u001b[43m \u001b[49m\u001b[43mkwargs\u001b[49m\u001b[43m)\u001b[49m\n\u001b[0;32m    745\u001b[0m result \u001b[38;5;241m=\u001b[39m \u001b[38;5;28mself\u001b[39m\u001b[38;5;241m.\u001b[39mwrap_results_list_like(keys, results)\n\u001b[0;32m    746\u001b[0m \u001b[38;5;28;01mreturn\u001b[39;00m result\n",
      "File \u001b[1;32mC:\\Python\\Python39\\lib\\site-packages\\pandas\\core\\apply.py:369\u001b[0m, in \u001b[0;36mApply.compute_list_like\u001b[1;34m(self, op_name, selected_obj, kwargs)\u001b[0m\n\u001b[0;32m    363\u001b[0m colg \u001b[38;5;241m=\u001b[39m obj\u001b[38;5;241m.\u001b[39m_gotitem(selected_obj\u001b[38;5;241m.\u001b[39mname, ndim\u001b[38;5;241m=\u001b[39m\u001b[38;5;241m1\u001b[39m, subset\u001b[38;5;241m=\u001b[39mselected_obj)\n\u001b[0;32m    364\u001b[0m args \u001b[38;5;241m=\u001b[39m (\n\u001b[0;32m    365\u001b[0m     [\u001b[38;5;28mself\u001b[39m\u001b[38;5;241m.\u001b[39maxis, \u001b[38;5;241m*\u001b[39m\u001b[38;5;28mself\u001b[39m\u001b[38;5;241m.\u001b[39margs]\n\u001b[0;32m    366\u001b[0m     \u001b[38;5;28;01mif\u001b[39;00m include_axis(op_name, colg)\n\u001b[0;32m    367\u001b[0m     \u001b[38;5;28;01melse\u001b[39;00m \u001b[38;5;28mself\u001b[39m\u001b[38;5;241m.\u001b[39margs\n\u001b[0;32m    368\u001b[0m )\n\u001b[1;32m--> 369\u001b[0m new_res \u001b[38;5;241m=\u001b[39m \u001b[38;5;28mgetattr\u001b[39m(colg, op_name)(a, \u001b[38;5;241m*\u001b[39margs, \u001b[38;5;241m*\u001b[39m\u001b[38;5;241m*\u001b[39mkwargs)\n\u001b[0;32m    370\u001b[0m results\u001b[38;5;241m.\u001b[39mappend(new_res)\n\u001b[0;32m    372\u001b[0m \u001b[38;5;66;03m# make sure we find a good name\u001b[39;00m\n",
      "File \u001b[1;32mC:\\Python\\Python39\\lib\\site-packages\\pandas\\core\\series.py:4766\u001b[0m, in \u001b[0;36mSeries.aggregate\u001b[1;34m(self, func, axis, *args, **kwargs)\u001b[0m\n\u001b[0;32m   4763\u001b[0m     func \u001b[38;5;241m=\u001b[39m \u001b[38;5;28mdict\u001b[39m(kwargs\u001b[38;5;241m.\u001b[39mitems())\n\u001b[0;32m   4765\u001b[0m op \u001b[38;5;241m=\u001b[39m SeriesApply(\u001b[38;5;28mself\u001b[39m, func, args\u001b[38;5;241m=\u001b[39margs, kwargs\u001b[38;5;241m=\u001b[39mkwargs)\n\u001b[1;32m-> 4766\u001b[0m result \u001b[38;5;241m=\u001b[39m \u001b[43mop\u001b[49m\u001b[38;5;241;43m.\u001b[39;49m\u001b[43magg\u001b[49m\u001b[43m(\u001b[49m\u001b[43m)\u001b[49m\n\u001b[0;32m   4767\u001b[0m \u001b[38;5;28;01mreturn\u001b[39;00m result\n",
      "File \u001b[1;32mC:\\Python\\Python39\\lib\\site-packages\\pandas\\core\\apply.py:1430\u001b[0m, in \u001b[0;36mSeriesApply.agg\u001b[1;34m(self)\u001b[0m\n\u001b[0;32m   1429\u001b[0m \u001b[38;5;28;01mdef\u001b[39;00m \u001b[38;5;21magg\u001b[39m(\u001b[38;5;28mself\u001b[39m):\n\u001b[1;32m-> 1430\u001b[0m     result \u001b[38;5;241m=\u001b[39m \u001b[38;5;28;43msuper\u001b[39;49m\u001b[43m(\u001b[49m\u001b[43m)\u001b[49m\u001b[38;5;241;43m.\u001b[39;49m\u001b[43magg\u001b[49m\u001b[43m(\u001b[49m\u001b[43m)\u001b[49m\n\u001b[0;32m   1431\u001b[0m     \u001b[38;5;28;01mif\u001b[39;00m result \u001b[38;5;129;01mis\u001b[39;00m \u001b[38;5;28;01mNone\u001b[39;00m:\n\u001b[0;32m   1432\u001b[0m         obj \u001b[38;5;241m=\u001b[39m \u001b[38;5;28mself\u001b[39m\u001b[38;5;241m.\u001b[39mobj\n",
      "File \u001b[1;32mC:\\Python\\Python39\\lib\\site-packages\\pandas\\core\\apply.py:187\u001b[0m, in \u001b[0;36mApply.agg\u001b[1;34m(self)\u001b[0m\n\u001b[0;32m    184\u001b[0m kwargs \u001b[38;5;241m=\u001b[39m \u001b[38;5;28mself\u001b[39m\u001b[38;5;241m.\u001b[39mkwargs\n\u001b[0;32m    186\u001b[0m \u001b[38;5;28;01mif\u001b[39;00m \u001b[38;5;28misinstance\u001b[39m(func, \u001b[38;5;28mstr\u001b[39m):\n\u001b[1;32m--> 187\u001b[0m     \u001b[38;5;28;01mreturn\u001b[39;00m \u001b[38;5;28;43mself\u001b[39;49m\u001b[38;5;241;43m.\u001b[39;49m\u001b[43mapply_str\u001b[49m\u001b[43m(\u001b[49m\u001b[43m)\u001b[49m\n\u001b[0;32m    189\u001b[0m \u001b[38;5;28;01mif\u001b[39;00m is_dict_like(func):\n\u001b[0;32m    190\u001b[0m     \u001b[38;5;28;01mreturn\u001b[39;00m \u001b[38;5;28mself\u001b[39m\u001b[38;5;241m.\u001b[39magg_dict_like()\n",
      "File \u001b[1;32mC:\\Python\\Python39\\lib\\site-packages\\pandas\\core\\apply.py:603\u001b[0m, in \u001b[0;36mApply.apply_str\u001b[1;34m(self)\u001b[0m\n\u001b[0;32m    601\u001b[0m         \u001b[38;5;28;01melse\u001b[39;00m:\n\u001b[0;32m    602\u001b[0m             \u001b[38;5;28mself\u001b[39m\u001b[38;5;241m.\u001b[39mkwargs[\u001b[38;5;124m\"\u001b[39m\u001b[38;5;124maxis\u001b[39m\u001b[38;5;124m\"\u001b[39m] \u001b[38;5;241m=\u001b[39m \u001b[38;5;28mself\u001b[39m\u001b[38;5;241m.\u001b[39maxis\n\u001b[1;32m--> 603\u001b[0m \u001b[38;5;28;01mreturn\u001b[39;00m \u001b[38;5;28mself\u001b[39m\u001b[38;5;241m.\u001b[39m_apply_str(obj, func, \u001b[38;5;241m*\u001b[39m\u001b[38;5;28mself\u001b[39m\u001b[38;5;241m.\u001b[39margs, \u001b[38;5;241m*\u001b[39m\u001b[38;5;241m*\u001b[39m\u001b[38;5;28mself\u001b[39m\u001b[38;5;241m.\u001b[39mkwargs)\n",
      "File \u001b[1;32mC:\\Python\\Python39\\lib\\site-packages\\pandas\\core\\apply.py:706\u001b[0m, in \u001b[0;36mApply._apply_str\u001b[1;34m(self, obj, func, *args, **kwargs)\u001b[0m\n\u001b[0;32m    704\u001b[0m \u001b[38;5;28;01melse\u001b[39;00m:\n\u001b[0;32m    705\u001b[0m     msg \u001b[38;5;241m=\u001b[39m \u001b[38;5;124mf\u001b[39m\u001b[38;5;124m\"\u001b[39m\u001b[38;5;124m'\u001b[39m\u001b[38;5;132;01m{\u001b[39;00mfunc\u001b[38;5;132;01m}\u001b[39;00m\u001b[38;5;124m'\u001b[39m\u001b[38;5;124m is not a valid function for \u001b[39m\u001b[38;5;124m'\u001b[39m\u001b[38;5;132;01m{\u001b[39;00m\u001b[38;5;28mtype\u001b[39m(obj)\u001b[38;5;241m.\u001b[39m\u001b[38;5;18m__name__\u001b[39m\u001b[38;5;132;01m}\u001b[39;00m\u001b[38;5;124m'\u001b[39m\u001b[38;5;124m object\u001b[39m\u001b[38;5;124m\"\u001b[39m\n\u001b[1;32m--> 706\u001b[0m     \u001b[38;5;28;01mraise\u001b[39;00m \u001b[38;5;167;01mAttributeError\u001b[39;00m(msg)\n",
      "\u001b[1;31mAttributeError\u001b[0m: 'price' is not a valid function for 'Series' object"
     ]
    }
   ],
   "source": [
    "belize_df[[\"price\"]].agg([\"mean\",\"price\"])"
   ]
  },
  {
   "cell_type": "code",
   "execution_count": 24,
   "id": "61af252e-f64b-4d61-980d-9c58faf7214b",
   "metadata": {},
   "outputs": [],
   "source": [
    "#covariance is to correlation what variance is to standard deviation\n",
    "\n",
    "#covariance tells us how much and to waht extent two random variables \n",
    "\n",
    "\n",
    "#positive = variables change in the same directions\n",
    "\n",
    "#correlation=(covariance of x and y)/((standard deviation of x)(standard deviation of y))\n",
    "\n",
    "                                     "
   ]
  },
  {
   "cell_type": "code",
   "execution_count": 25,
   "id": "924269af-731c-4497-af22-55e4e453f0ee",
   "metadata": {},
   "outputs": [
    {
     "data": {
      "text/plain": [
       "array([[   919.77350828,  -2055.7279794 ],\n",
       "       [ -2055.7279794 , 317109.56806632]])"
      ]
     },
     "execution_count": 25,
     "metadata": {},
     "output_type": "execute_result"
    }
   ],
   "source": [
    "np.cov(belize_df[\"number_of_reviews\"], belize_df[\"price\"])\n"
   ]
  },
  {
   "cell_type": "code",
   "execution_count": 27,
   "id": "83daa59f-5e65-4912-a222-8f4d87dcbf35",
   "metadata": {},
   "outputs": [
    {
     "data": {
      "text/plain": [
       "array([[ 1.        , -0.12037063],\n",
       "       [-0.12037063,  1.        ]])"
      ]
     },
     "execution_count": 27,
     "metadata": {},
     "output_type": "execute_result"
    }
   ],
   "source": [
    "np.corrcoef(belize_df[\"number_of_reviews\"], belize_df[\"price\"])"
   ]
  },
  {
   "cell_type": "code",
   "execution_count": null,
   "id": "2131fc64-81fd-4475-a09b-b78afe7731c8",
   "metadata": {},
   "outputs": [],
   "source": []
  }
 ],
 "metadata": {
  "kernelspec": {
   "display_name": "Python 3 (ipykernel)",
   "language": "python",
   "name": "python3"
  },
  "language_info": {
   "codemirror_mode": {
    "name": "ipython",
    "version": 3
   },
   "file_extension": ".py",
   "mimetype": "text/x-python",
   "name": "python",
   "nbconvert_exporter": "python",
   "pygments_lexer": "ipython3",
   "version": "3.9.11"
  }
 },
 "nbformat": 4,
 "nbformat_minor": 5
}
