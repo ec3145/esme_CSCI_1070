{
 "cells": [
  {
   "cell_type": "code",
   "execution_count": 1,
   "id": "979dbd72-16d2-4495-ab6b-d85bcc6ec1d8",
   "metadata": {},
   "outputs": [],
   "source": [
    "#scope(lEGB Rule)\n",
    "#local- only avialable to other code in this scope\n",
    "#enclosing - only exits in nested functions \n",
    "#global- avail. to code and can pass through modules classes etc (dont really use this bc its not used correctly)\n",
    "#built in- names created by python when u run a script"
   ]
  },
  {
   "cell_type": "code",
   "execution_count": 6,
   "id": "9f2aa0f8-fab4-4a49-9488-bfb84bc24f3f",
   "metadata": {},
   "outputs": [
    {
     "ename": "SyntaxError",
     "evalue": "invalid syntax (1450595418.py, line 3)",
     "output_type": "error",
     "traceback": [
      "\u001b[1;36m  Cell \u001b[1;32mIn[6], line 3\u001b[1;36m\u001b[0m\n\u001b[1;33m    __init__(__is \"dunder\")\u001b[0m\n\u001b[1;37m                  ^\u001b[0m\n\u001b[1;31mSyntaxError\u001b[0m\u001b[1;31m:\u001b[0m invalid syntax\n"
     ]
    }
   ],
   "source": [
    "#Python Constructor\n",
    "#constructors- get created when you create an instacne of a class.\n",
    "__init__(__is \"dunder\")\n",
    "SELF is a default variable that contains the memory address of the current \n",
    "#something that applies to everyone\n",
    "#instance- returning \n",
    "    "
   ]
  },
  {
   "cell_type": "code",
   "execution_count": 7,
   "id": "08078171-878c-41da-b148-e2034dec92ac",
   "metadata": {},
   "outputs": [
    {
     "name": "stdout",
     "output_type": "stream",
     "text": [
      "0\n"
     ]
    }
   ],
   "source": [
    "class a_sample_class:\n",
    "     #defualt/basic constructor \n",
    "     def __init__(self):\n",
    "         self.var = 0\n",
    "     def print_vars(self):\n",
    "         print(self.var)\n",
    "#create instance of a class         \n",
    "obj = a_sample_class()\n",
    "obj.print_vars()"
   ]
  },
  {
   "cell_type": "code",
   "execution_count": 12,
   "id": "577c7088-9a0b-43e2-94e0-c121717302c9",
   "metadata": {},
   "outputs": [
    {
     "name": "stdout",
     "output_type": "stream",
     "text": [
      "42\n",
      "5\n"
     ]
    },
    {
     "ename": "AttributeError",
     "evalue": "type object 'a_sample_class' has no attribute 'first'",
     "output_type": "error",
     "traceback": [
      "\u001b[1;31m---------------------------------------------------------------------------\u001b[0m",
      "\u001b[1;31mAttributeError\u001b[0m                            Traceback (most recent call last)",
      "Cell \u001b[1;32mIn[12], line 11\u001b[0m\n\u001b[0;32m      9\u001b[0m \u001b[38;5;28mprint\u001b[39m(obj\u001b[38;5;241m.\u001b[39mfirst)\n\u001b[0;32m     10\u001b[0m \u001b[38;5;28mprint\u001b[39m(obj\u001b[38;5;241m.\u001b[39mclass_attr)\n\u001b[1;32m---> 11\u001b[0m \u001b[38;5;28mprint\u001b[39m(\u001b[43ma_sample_class\u001b[49m\u001b[38;5;241;43m.\u001b[39;49m\u001b[43mfirst\u001b[49m)\n\u001b[0;32m     12\u001b[0m \u001b[38;5;28mprint\u001b[39m(a_sample_class\u001b[38;5;241m.\u001b[39mclass_attr)\n",
      "\u001b[1;31mAttributeError\u001b[0m: type object 'a_sample_class' has no attribute 'first'"
     ]
    }
   ],
   "source": [
    "class a_sample_class:\n",
    "    class_attr = 5\n",
    "      \n",
    "    def __init__(self, one, two):\n",
    "         self.first = one\n",
    "         self.first = two\n",
    "         \n",
    "obj = a_sample_class(17,42)\n",
    "print(obj.first)\n",
    "print(obj.class_attr)\n",
    "print(a_sample_class.first)\n",
    "print(a_sample_class.class_attr)"
   ]
  },
  {
   "cell_type": "code",
   "execution_count": 19,
   "id": "865ca21f-ee32-42a6-93bb-7ceb27ec528d",
   "metadata": {},
   "outputs": [],
   "source": [
    "# instance attributes and class attributes\n",
    "\n",
    "#2 scopes for attributes\n",
    "\n",
    "#instance attribute = variable that belongs to a specific instance of instantiation.\n",
    "#Defines isnide the cronstuctor (init) Can access from the scope of an object (local)\n",
    "\n",
    "#class attribute = type of variable that belongs to the clas itself similar to static attributes in Java (not exactly the same)\n",
    "#it is both a property of a class AND a property "
   ]
  },
  {
   "cell_type": "code",
   "execution_count": 14,
   "id": "c0a78cb2-83d1-4bf4-ba09-fcee5fef7cc2",
   "metadata": {},
   "outputs": [
    {
     "name": "stdout",
     "output_type": "stream",
     "text": [
      "Help on a_sample_class in module __main__ object:\n",
      "\n",
      "class a_sample_class(builtins.object)\n",
      " |  a_sample_class(one, two)\n",
      " |  \n",
      " |  Methods defined here:\n",
      " |  \n",
      " |  __init__(self, one, two)\n",
      " |      Initialize self.  See help(type(self)) for accurate signature.\n",
      " |  \n",
      " |  ----------------------------------------------------------------------\n",
      " |  Data descriptors defined here:\n",
      " |  \n",
      " |  __dict__\n",
      " |      dictionary for instance variables (if defined)\n",
      " |  \n",
      " |  __weakref__\n",
      " |      list of weak references to the object (if defined)\n",
      " |  \n",
      " |  ----------------------------------------------------------------------\n",
      " |  Data and other attributes defined here:\n",
      " |  \n",
      " |  class_attr = 5\n",
      "\n"
     ]
    }
   ],
   "source": [
    "help(obj)"
   ]
  },
  {
   "cell_type": "code",
   "execution_count": 15,
   "id": "77b172a7-8885-4a9a-83ae-0d0a0f655f5c",
   "metadata": {},
   "outputs": [
    {
     "data": {
      "text/plain": [
       "['In',\n",
       " 'Out',\n",
       " '_',\n",
       " '__',\n",
       " '___',\n",
       " '__builtin__',\n",
       " '__builtins__',\n",
       " '__doc__',\n",
       " '__loader__',\n",
       " '__name__',\n",
       " '__package__',\n",
       " '__session__',\n",
       " '__spec__',\n",
       " '_dh',\n",
       " '_i',\n",
       " '_i1',\n",
       " '_i10',\n",
       " '_i12',\n",
       " '_i13',\n",
       " '_i14',\n",
       " '_i15',\n",
       " '_i2',\n",
       " '_i3',\n",
       " '_i4',\n",
       " '_i5',\n",
       " '_i6',\n",
       " '_i7',\n",
       " '_i8',\n",
       " '_i9',\n",
       " '_ih',\n",
       " '_ii',\n",
       " '_iii',\n",
       " '_oh',\n",
       " 'a_sample_class',\n",
       " 'exit',\n",
       " 'get_ipython',\n",
       " 'obj',\n",
       " 'open',\n",
       " 'quit']"
      ]
     },
     "execution_count": 15,
     "metadata": {},
     "output_type": "execute_result"
    }
   ],
   "source": [
    "#dir = directory of names in the current \n",
    "dir()"
   ]
  },
  {
   "cell_type": "code",
   "execution_count": 16,
   "id": "6e51b4ca-437d-4cc8-9662-a6352053cfb8",
   "metadata": {},
   "outputs": [
    {
     "data": {
      "text/plain": [
       "{'__name__': '__main__',\n",
       " '__doc__': 'Automatically created module for IPython interactive environment',\n",
       " '__package__': None,\n",
       " '__loader__': None,\n",
       " '__spec__': None,\n",
       " '__builtin__': <module 'builtins' (built-in)>,\n",
       " '__builtins__': <module 'builtins' (built-in)>,\n",
       " '_ih': ['',\n",
       "  '#scope(lEGB Rule)\\n#local- only avialable to other code in this scope\\n#enclosing - only exits in nested functions \\n#global- avail. to code and can pass through modules classes etc (dont really use this bc its not used correctly)\\n#built in- names created by python when u run a script',\n",
       "  '#Python Constructor\\n#\\n#',\n",
       "  '#Python Constructor\\n#constructors- get created when you create an instacne of a class.\\n__init__(__is \"dunder\")\\nSELF is a default variable that contains the memory address of the current \\n#something that applies to everyone\\n#instance- returning \\n class a_sample_class:\\n     #defualt/basic constructor \\n     def __init__(self):\\n         self.var = 0\\n     def print_vars(self):\\n         print(self.var)\\nobj = a_sample_class()\\n         ',\n",
       "  '#Python Constructor\\n#constructors- get created when you create an instacne of a class.\\n__init__(__is dunder)\\nSELF is a default variable that contains the memory address of the current \\n#something that applies to everyone\\n#instance- returning \\n class a_sample_class:\\n     #defualt/basic constructor \\n     def __init__(self):\\n         self.var = 0\\n     def print_vars(self):\\n         print(self.var)\\n#create instance of a class         \\nobj = a_sample_class()\\n         ',\n",
       "  '#Python Constructor\\n#constructors- get created when you create an instacne of a class.\\n__init__(__is _dunder_)\\nSELF is a default variable that contains the memory address of the current \\n#something that applies to everyone\\n#instance- returning \\n class a_sample_class:\\n     #defualt/basic constructor \\n     def __init__(self):\\n         self.var = 0\\n     def print_vars(self):\\n         print(self.var)\\n#create instance of a class         \\nobj = a_sample_class()\\n         ',\n",
       "  '#Python Constructor\\n#constructors- get created when you create an instacne of a class.\\n__init__(__is \"dunder\")\\nSELF is a default variable that contains the memory address of the current \\n#something that applies to everyone\\n#instance- returning \\n class a_sample_class:\\n     #defualt/basic constructor \\n     def __init__(self):\\n         self.var = 0\\n     def print_vars(self):\\n         print(self.var)\\n#create instance of a class         \\nobj = a_sample_class()\\nobj.print_vars()\\n         ',\n",
       "  'class a_sample_class:\\n     #defualt/basic constructor \\n     def __init__(self):\\n         self.var = 0\\n     def print_vars(self):\\n         print(self.var)\\n#create instance of a class         \\nobj = a_sample_class()\\nobj.print_vars()',\n",
       "  'class a_sample_class:\\n      \\n     def __init__(self, one, two):\\n         self.first = one\\n         self.first = two\\n     def print_vars(self):\\n         print(self.var)\\n         \\nobj = a_sample_class(17,42)\\nprint(obj.first)\\nprint(obj.class_attr)\\nprint(a_sample_class.first)\\nprint(a_sample_class.class_attr)',\n",
       "  'class a_sample_class:\\n    class_attr = 5\\n      \\n     def __init__(self, one, two):\\n         self.first = one\\n         self.first = two\\n     def print_vars(self):\\n         print(self.var)\\n         \\nobj = a_sample_class(17,42)\\nprint(obj.first)\\nprint(obj.class_attr)\\nprint(a_sample_class.first)\\nprint(a_sample_class.class_attr)',\n",
       "  'class a_sample_class:\\n    class_attr = 5\\n      \\n    def __init__(self, one, two):\\n         self.first = one\\n         self.first = two\\n     def print_vars(self):\\n         print(self.var)\\n         \\nobj = a_sample_class(17,42)\\nprint(obj.first)\\nprint(obj.class_attr)\\nprint(a_sample_class.first)\\nprint(a_sample_class.class_attr)',\n",
       "  'class a_sample_class:\\n    class_attr = 5\\n      \\n    def __init__(self, one, two):\\n         self.first = one\\n         self.first = two\\n         \\nobj = a_sample_class(17,42)\\nprint(obj.first)\\nprint(obj.class_attr)\\nprint(a_sample_class.first)\\nprint(a_sample_class.class_attr)',\n",
       "  '# instance attributes and class attributes\\n\\n2 scopes for attributes\\n\\ninstance attribute = variable that belongs to a specific instance of instantiation.\\nDefines isnide the cronstuctor (init) Can access from the scope of an object (local)\\n\\nclass attribute = type of variable that belongs to the clas itself similar to static attributes in Java (not exactly the same)\\nit is both a property of a class AND a property ',\n",
       "  'help(obj)',\n",
       "  '#dir = directory of names in the current \\ndir()',\n",
       "  'globals()'],\n",
       " '_oh': {15: ['In',\n",
       "   'Out',\n",
       "   '_',\n",
       "   '__',\n",
       "   '___',\n",
       "   '__builtin__',\n",
       "   '__builtins__',\n",
       "   '__doc__',\n",
       "   '__loader__',\n",
       "   '__name__',\n",
       "   '__package__',\n",
       "   '__session__',\n",
       "   '__spec__',\n",
       "   '_dh',\n",
       "   '_i',\n",
       "   '_i1',\n",
       "   '_i10',\n",
       "   '_i12',\n",
       "   '_i13',\n",
       "   '_i14',\n",
       "   '_i15',\n",
       "   '_i2',\n",
       "   '_i3',\n",
       "   '_i4',\n",
       "   '_i5',\n",
       "   '_i6',\n",
       "   '_i7',\n",
       "   '_i8',\n",
       "   '_i9',\n",
       "   '_ih',\n",
       "   '_ii',\n",
       "   '_iii',\n",
       "   '_oh',\n",
       "   'a_sample_class',\n",
       "   'exit',\n",
       "   'get_ipython',\n",
       "   'obj',\n",
       "   'open',\n",
       "   'quit']},\n",
       " '_dh': [WindowsPath('C:/Users/casim/OneDrive/Desktop/CSCI_1070_Class/Esmes_1070_course')],\n",
       " 'In': ['',\n",
       "  '#scope(lEGB Rule)\\n#local- only avialable to other code in this scope\\n#enclosing - only exits in nested functions \\n#global- avail. to code and can pass through modules classes etc (dont really use this bc its not used correctly)\\n#built in- names created by python when u run a script',\n",
       "  '#Python Constructor\\n#\\n#',\n",
       "  '#Python Constructor\\n#constructors- get created when you create an instacne of a class.\\n__init__(__is \"dunder\")\\nSELF is a default variable that contains the memory address of the current \\n#something that applies to everyone\\n#instance- returning \\n class a_sample_class:\\n     #defualt/basic constructor \\n     def __init__(self):\\n         self.var = 0\\n     def print_vars(self):\\n         print(self.var)\\nobj = a_sample_class()\\n         ',\n",
       "  '#Python Constructor\\n#constructors- get created when you create an instacne of a class.\\n__init__(__is dunder)\\nSELF is a default variable that contains the memory address of the current \\n#something that applies to everyone\\n#instance- returning \\n class a_sample_class:\\n     #defualt/basic constructor \\n     def __init__(self):\\n         self.var = 0\\n     def print_vars(self):\\n         print(self.var)\\n#create instance of a class         \\nobj = a_sample_class()\\n         ',\n",
       "  '#Python Constructor\\n#constructors- get created when you create an instacne of a class.\\n__init__(__is _dunder_)\\nSELF is a default variable that contains the memory address of the current \\n#something that applies to everyone\\n#instance- returning \\n class a_sample_class:\\n     #defualt/basic constructor \\n     def __init__(self):\\n         self.var = 0\\n     def print_vars(self):\\n         print(self.var)\\n#create instance of a class         \\nobj = a_sample_class()\\n         ',\n",
       "  '#Python Constructor\\n#constructors- get created when you create an instacne of a class.\\n__init__(__is \"dunder\")\\nSELF is a default variable that contains the memory address of the current \\n#something that applies to everyone\\n#instance- returning \\n class a_sample_class:\\n     #defualt/basic constructor \\n     def __init__(self):\\n         self.var = 0\\n     def print_vars(self):\\n         print(self.var)\\n#create instance of a class         \\nobj = a_sample_class()\\nobj.print_vars()\\n         ',\n",
       "  'class a_sample_class:\\n     #defualt/basic constructor \\n     def __init__(self):\\n         self.var = 0\\n     def print_vars(self):\\n         print(self.var)\\n#create instance of a class         \\nobj = a_sample_class()\\nobj.print_vars()',\n",
       "  'class a_sample_class:\\n      \\n     def __init__(self, one, two):\\n         self.first = one\\n         self.first = two\\n     def print_vars(self):\\n         print(self.var)\\n         \\nobj = a_sample_class(17,42)\\nprint(obj.first)\\nprint(obj.class_attr)\\nprint(a_sample_class.first)\\nprint(a_sample_class.class_attr)',\n",
       "  'class a_sample_class:\\n    class_attr = 5\\n      \\n     def __init__(self, one, two):\\n         self.first = one\\n         self.first = two\\n     def print_vars(self):\\n         print(self.var)\\n         \\nobj = a_sample_class(17,42)\\nprint(obj.first)\\nprint(obj.class_attr)\\nprint(a_sample_class.first)\\nprint(a_sample_class.class_attr)',\n",
       "  'class a_sample_class:\\n    class_attr = 5\\n      \\n    def __init__(self, one, two):\\n         self.first = one\\n         self.first = two\\n     def print_vars(self):\\n         print(self.var)\\n         \\nobj = a_sample_class(17,42)\\nprint(obj.first)\\nprint(obj.class_attr)\\nprint(a_sample_class.first)\\nprint(a_sample_class.class_attr)',\n",
       "  'class a_sample_class:\\n    class_attr = 5\\n      \\n    def __init__(self, one, two):\\n         self.first = one\\n         self.first = two\\n         \\nobj = a_sample_class(17,42)\\nprint(obj.first)\\nprint(obj.class_attr)\\nprint(a_sample_class.first)\\nprint(a_sample_class.class_attr)',\n",
       "  '# instance attributes and class attributes\\n\\n2 scopes for attributes\\n\\ninstance attribute = variable that belongs to a specific instance of instantiation.\\nDefines isnide the cronstuctor (init) Can access from the scope of an object (local)\\n\\nclass attribute = type of variable that belongs to the clas itself similar to static attributes in Java (not exactly the same)\\nit is both a property of a class AND a property ',\n",
       "  'help(obj)',\n",
       "  '#dir = directory of names in the current \\ndir()',\n",
       "  'globals()'],\n",
       " 'Out': {15: ['In',\n",
       "   'Out',\n",
       "   '_',\n",
       "   '__',\n",
       "   '___',\n",
       "   '__builtin__',\n",
       "   '__builtins__',\n",
       "   '__doc__',\n",
       "   '__loader__',\n",
       "   '__name__',\n",
       "   '__package__',\n",
       "   '__session__',\n",
       "   '__spec__',\n",
       "   '_dh',\n",
       "   '_i',\n",
       "   '_i1',\n",
       "   '_i10',\n",
       "   '_i12',\n",
       "   '_i13',\n",
       "   '_i14',\n",
       "   '_i15',\n",
       "   '_i2',\n",
       "   '_i3',\n",
       "   '_i4',\n",
       "   '_i5',\n",
       "   '_i6',\n",
       "   '_i7',\n",
       "   '_i8',\n",
       "   '_i9',\n",
       "   '_ih',\n",
       "   '_ii',\n",
       "   '_iii',\n",
       "   '_oh',\n",
       "   'a_sample_class',\n",
       "   'exit',\n",
       "   'get_ipython',\n",
       "   'obj',\n",
       "   'open',\n",
       "   'quit']},\n",
       " 'get_ipython': <bound method InteractiveShell.get_ipython of <ipykernel.zmqshell.ZMQInteractiveShell object at 0x000002630A1F25B0>>,\n",
       " 'exit': <IPython.core.autocall.ZMQExitAutocall at 0x2630a209160>,\n",
       " 'quit': <IPython.core.autocall.ZMQExitAutocall at 0x2630a209160>,\n",
       " 'open': <function io.open(file, mode='r', buffering=-1, encoding=None, errors=None, newline=None, closefd=True, opener=None)>,\n",
       " '_': ['In',\n",
       "  'Out',\n",
       "  '_',\n",
       "  '__',\n",
       "  '___',\n",
       "  '__builtin__',\n",
       "  '__builtins__',\n",
       "  '__doc__',\n",
       "  '__loader__',\n",
       "  '__name__',\n",
       "  '__package__',\n",
       "  '__session__',\n",
       "  '__spec__',\n",
       "  '_dh',\n",
       "  '_i',\n",
       "  '_i1',\n",
       "  '_i10',\n",
       "  '_i12',\n",
       "  '_i13',\n",
       "  '_i14',\n",
       "  '_i15',\n",
       "  '_i2',\n",
       "  '_i3',\n",
       "  '_i4',\n",
       "  '_i5',\n",
       "  '_i6',\n",
       "  '_i7',\n",
       "  '_i8',\n",
       "  '_i9',\n",
       "  '_ih',\n",
       "  '_ii',\n",
       "  '_iii',\n",
       "  '_oh',\n",
       "  'a_sample_class',\n",
       "  'exit',\n",
       "  'get_ipython',\n",
       "  'obj',\n",
       "  'open',\n",
       "  'quit'],\n",
       " '__': '',\n",
       " '___': '',\n",
       " '__session__': 'C:\\\\Users\\\\casim\\\\OneDrive\\\\Desktop\\\\CSCI_1070_Class\\\\Esmes_1070_course\\\\Untitled.ipynb',\n",
       " '_i': '#dir = directory of names in the current \\ndir()',\n",
       " '_ii': 'help(obj)',\n",
       " '_iii': '# instance attributes and class attributes\\n\\n2 scopes for attributes\\n\\ninstance attribute = variable that belongs to a specific instance of instantiation.\\nDefines isnide the cronstuctor (init) Can access from the scope of an object (local)\\n\\nclass attribute = type of variable that belongs to the clas itself similar to static attributes in Java (not exactly the same)\\nit is both a property of a class AND a property ',\n",
       " '_i1': '#scope(lEGB Rule)\\n#local- only avialable to other code in this scope\\n#enclosing - only exits in nested functions \\n#global- avail. to code and can pass through modules classes etc (dont really use this bc its not used correctly)\\n#built in- names created by python when u run a script',\n",
       " '_i2': '#Python Constructor\\n#\\n#',\n",
       " '_i3': '#Python Constructor\\n#constructors- get created when you create an instacne of a class.\\n__init__(__is \"dunder\")\\nSELF is a default variable that contains the memory address of the current \\n#something that applies to everyone\\n#instance- returning \\n class a_sample_class:\\n     #defualt/basic constructor \\n     def __init__(self):\\n         self.var = 0\\n     def print_vars(self):\\n         print(self.var)\\nobj = a_sample_class()\\n         ',\n",
       " '_i4': '#Python Constructor\\n#constructors- get created when you create an instacne of a class.\\n__init__(__is dunder)\\nSELF is a default variable that contains the memory address of the current \\n#something that applies to everyone\\n#instance- returning \\n class a_sample_class:\\n     #defualt/basic constructor \\n     def __init__(self):\\n         self.var = 0\\n     def print_vars(self):\\n         print(self.var)\\n#create instance of a class         \\nobj = a_sample_class()\\n         ',\n",
       " '_i5': '#Python Constructor\\n#constructors- get created when you create an instacne of a class.\\n__init__(__is _dunder_)\\nSELF is a default variable that contains the memory address of the current \\n#something that applies to everyone\\n#instance- returning \\n class a_sample_class:\\n     #defualt/basic constructor \\n     def __init__(self):\\n         self.var = 0\\n     def print_vars(self):\\n         print(self.var)\\n#create instance of a class         \\nobj = a_sample_class()\\n         ',\n",
       " '_i6': '#Python Constructor\\n#constructors- get created when you create an instacne of a class.\\n__init__(__is \"dunder\")\\nSELF is a default variable that contains the memory address of the current \\n#something that applies to everyone\\n#instance- returning \\n class a_sample_class:\\n     #defualt/basic constructor \\n     def __init__(self):\\n         self.var = 0\\n     def print_vars(self):\\n         print(self.var)\\n#create instance of a class         \\nobj = a_sample_class()\\nobj.print_vars()\\n         ',\n",
       " '_i7': 'class a_sample_class:\\n     #defualt/basic constructor \\n     def __init__(self):\\n         self.var = 0\\n     def print_vars(self):\\n         print(self.var)\\n#create instance of a class         \\nobj = a_sample_class()\\nobj.print_vars()',\n",
       " 'a_sample_class': __main__.a_sample_class,\n",
       " 'obj': <__main__.a_sample_class at 0x2630b37dd00>,\n",
       " '_i8': 'class a_sample_class:\\n      \\n     def __init__(self, one, two):\\n         self.first = one\\n         self.first = two\\n     def print_vars(self):\\n         print(self.var)\\n         \\nobj = a_sample_class(17,42)\\nprint(obj.first)\\nprint(obj.class_attr)\\nprint(a_sample_class.first)\\nprint(a_sample_class.class_attr)',\n",
       " '_i9': 'class a_sample_class:\\n    class_attr = 5\\n      \\n     def __init__(self, one, two):\\n         self.first = one\\n         self.first = two\\n     def print_vars(self):\\n         print(self.var)\\n         \\nobj = a_sample_class(17,42)\\nprint(obj.first)\\nprint(obj.class_attr)\\nprint(a_sample_class.first)\\nprint(a_sample_class.class_attr)',\n",
       " '_i10': 'class a_sample_class:\\n    class_attr = 5\\n      \\n    def __init__(self, one, two):\\n         self.first = one\\n         self.first = two\\n     def print_vars(self):\\n         print(self.var)\\n         \\nobj = a_sample_class(17,42)\\nprint(obj.first)\\nprint(obj.class_attr)\\nprint(a_sample_class.first)\\nprint(a_sample_class.class_attr)',\n",
       " '_i12': 'class a_sample_class:\\n    class_attr = 5\\n      \\n    def __init__(self, one, two):\\n         self.first = one\\n         self.first = two\\n         \\nobj = a_sample_class(17,42)\\nprint(obj.first)\\nprint(obj.class_attr)\\nprint(a_sample_class.first)\\nprint(a_sample_class.class_attr)',\n",
       " '_i13': '# instance attributes and class attributes\\n\\n2 scopes for attributes\\n\\ninstance attribute = variable that belongs to a specific instance of instantiation.\\nDefines isnide the cronstuctor (init) Can access from the scope of an object (local)\\n\\nclass attribute = type of variable that belongs to the clas itself similar to static attributes in Java (not exactly the same)\\nit is both a property of a class AND a property ',\n",
       " '_i14': 'help(obj)',\n",
       " '_i15': '#dir = directory of names in the current \\ndir()',\n",
       " '_15': ['In',\n",
       "  'Out',\n",
       "  '_',\n",
       "  '__',\n",
       "  '___',\n",
       "  '__builtin__',\n",
       "  '__builtins__',\n",
       "  '__doc__',\n",
       "  '__loader__',\n",
       "  '__name__',\n",
       "  '__package__',\n",
       "  '__session__',\n",
       "  '__spec__',\n",
       "  '_dh',\n",
       "  '_i',\n",
       "  '_i1',\n",
       "  '_i10',\n",
       "  '_i12',\n",
       "  '_i13',\n",
       "  '_i14',\n",
       "  '_i15',\n",
       "  '_i2',\n",
       "  '_i3',\n",
       "  '_i4',\n",
       "  '_i5',\n",
       "  '_i6',\n",
       "  '_i7',\n",
       "  '_i8',\n",
       "  '_i9',\n",
       "  '_ih',\n",
       "  '_ii',\n",
       "  '_iii',\n",
       "  '_oh',\n",
       "  'a_sample_class',\n",
       "  'exit',\n",
       "  'get_ipython',\n",
       "  'obj',\n",
       "  'open',\n",
       "  'quit'],\n",
       " '_i16': 'globals()'}"
      ]
     },
     "execution_count": 16,
     "metadata": {},
     "output_type": "execute_result"
    }
   ],
   "source": [
    "# retuning the current module namesapce\n",
    "#namespace +  mapping bertween objects and current names. These are defines names, \n",
    "#and they also include info about the objects each name references \n",
    "globals()"
   ]
  },
  {
   "cell_type": "code",
   "execution_count": 20,
   "id": "6c4377ec-e8b0-4ca6-91f3-e451053e2a2b",
   "metadata": {},
   "outputs": [],
   "source": [
    "#Instance, class and static methods "
   ]
  },
  {
   "cell_type": "code",
   "execution_count": 25,
   "id": "c27cc20d-15d0-46d5-ba6c-f03d2a099225",
   "metadata": {},
   "outputs": [
    {
     "ename": "SyntaxError",
     "evalue": "invalid syntax (471153445.py, line 30)",
     "output_type": "error",
     "traceback": [
      "\u001b[1;36m  Cell \u001b[1;32mIn[25], line 30\u001b[1;36m\u001b[0m\n\u001b[1;33m    elif sixe == 'regular':\u001b[0m\n\u001b[1;37m    ^\u001b[0m\n\u001b[1;31mSyntaxError\u001b[0m\u001b[1;31m:\u001b[0m invalid syntax\n"
     ]
    }
   ],
   "source": [
    "class Candy:\n",
    "    #variables that start with a single underscore are reserved for internal purposes\n",
    "    def _init__(self, _brand, \n",
    "                _is_caramel=False, \n",
    "                _is_choclate=False, \n",
    "                _is_vegan=False,\n",
    "                _has_nuts=False,\n",
    "                _type='choclate',\n",
    "                _calories=200,\n",
    "               _size= 'funsized'):\n",
    "        self.brand=_brand\n",
    "        self.is_caramel= _is_caramel\n",
    "        self.is_choclate = _is_choclate\n",
    "        self.is_vegan = _is_vegan\n",
    "        self.has_nuts = _has_nuts\n",
    "        self.calories = _calories\n",
    "        self.type = _type\n",
    "    #class method-used to modify the state of the class (for all instance)\n",
    "    @classmethod\n",
    "    def snickers(cls):\n",
    "        return cls('Mars', _is_caramel=True, _has_nuts=True, _type='Snickers')\n",
    "    #instance method can access and modify both the class and instacnce state\n",
    "    #printing is accessing state\n",
    "    def display(self):\n",
    "        print(f'My favorite candy is {self.brand} {self.type}')\n",
    "    #static method- used for comparison or vlaidation commonly usec in data for chekcing if datat meets particular conditions\n",
    "    #if you want \n",
    "    def calories(size,n):\n",
    "        calories = 500\n",
    "    elif sixe == 'regular':\n",
    "        caloreis = 350\n",
    "    elif size == 'funsized:\n",
    "        calories = 100\n",
    "    else:\n",
    "        calories = 0\n",
    "        calories = calories*n\n",
    "    return calories\n",
    "\n",
    "candy.calories('funsized',50)\n"
   ]
  },
  {
   "cell_type": "code",
   "execution_count": 23,
   "id": "e4796646-27bd-4e71-aea1-f0d07100eaf2",
   "metadata": {},
   "outputs": [
    {
     "ename": "AttributeError",
     "evalue": "'function' object has no attribute 'display'",
     "output_type": "error",
     "traceback": [
      "\u001b[1;31m---------------------------------------------------------------------------\u001b[0m",
      "\u001b[1;31mAttributeError\u001b[0m                            Traceback (most recent call last)",
      "Cell \u001b[1;32mIn[23], line 2\u001b[0m\n\u001b[0;32m      1\u001b[0m snickers_bar \u001b[38;5;241m=\u001b[39m Candy\u001b[38;5;241m.\u001b[39msnickers\n\u001b[1;32m----> 2\u001b[0m \u001b[43msnickers_bar\u001b[49m\u001b[38;5;241;43m.\u001b[39;49m\u001b[43mdisplay\u001b[49m()\n",
      "\u001b[1;31mAttributeError\u001b[0m: 'function' object has no attribute 'display'"
     ]
    }
   ],
   "source": [
    "snickers_bar = Candy.snickers\n",
    "snickers_bar.display()"
   ]
  },
  {
   "cell_type": "code",
   "execution_count": 24,
   "id": "577f702a-f961-443c-b720-dc30b6bf8918",
   "metadata": {},
   "outputs": [
    {
     "ename": "TypeError",
     "evalue": "Candy() takes no arguments",
     "output_type": "error",
     "traceback": [
      "\u001b[1;31m---------------------------------------------------------------------------\u001b[0m",
      "\u001b[1;31mTypeError\u001b[0m                                 Traceback (most recent call last)",
      "Cell \u001b[1;32mIn[24], line 1\u001b[0m\n\u001b[1;32m----> 1\u001b[0m favorite_candy \u001b[38;5;241m=\u001b[39m \u001b[43mCandy\u001b[49m\u001b[43m(\u001b[49m\u001b[43m_brand\u001b[49m\u001b[38;5;241;43m=\u001b[39;49m\u001b[38;5;124;43m'\u001b[39;49m\u001b[38;5;124;43mHersheys\u001b[39;49m\u001b[38;5;124;43m'\u001b[39;49m\u001b[43m,\u001b[49m\u001b[43m \u001b[49m\u001b[43m_is_caramel\u001b[49m\u001b[38;5;241;43m=\u001b[39;49m\u001b[38;5;28;43;01mTrue\u001b[39;49;00m\u001b[43m,\u001b[49m\u001b[43m \u001b[49m\u001b[43m_is_choclate\u001b[49m\u001b[38;5;241;43m=\u001b[39;49m\u001b[38;5;28;43;01mTrue\u001b[39;49;00m\u001b[43m,\u001b[49m\u001b[43m \u001b[49m\u001b[43m_has_nuts\u001b[49m\u001b[38;5;241;43m=\u001b[39;49m\u001b[38;5;28;43;01mTrue\u001b[39;49;00m\u001b[43m,\u001b[49m\u001b[43m_type\u001b[49m\u001b[38;5;241;43m=\u001b[39;49m\u001b[38;5;28;43;01mTrue\u001b[39;49;00m\u001b[43m)\u001b[49m\n\u001b[0;32m      2\u001b[0m favorite_candy\u001b[38;5;241m.\u001b[39mdisplay()\n",
      "\u001b[1;31mTypeError\u001b[0m: Candy() takes no arguments"
     ]
    }
   ],
   "source": [
    "favorite_candy = Candy(_brand ='Hersheys', _is_caramel=True, _is_choclate=True, _has_nuts=True,_type=True)\n",
    "favorite_candy.display()"
   ]
  },
  {
   "cell_type": "code",
   "execution_count": 31,
   "id": "c6a13cb9-f88b-4cdf-bcdb-582b814eea3e",
   "metadata": {},
   "outputs": [
    {
     "ename": "IndentationError",
     "evalue": "unexpected indent (825153732.py, line 3)",
     "output_type": "error",
     "traceback": [
      "\u001b[1;36m  Cell \u001b[1;32mIn[31], line 3\u001b[1;36m\u001b[0m\n\u001b[1;33m    def the_decorator(func):\u001b[0m\n\u001b[1;37m    ^\u001b[0m\n\u001b[1;31mIndentationError\u001b[0m\u001b[1;31m:\u001b[0m unexpected indent\n"
     ]
    }
   ],
   "source": [
    "#Decorators \n",
    "\n",
    "    def the_decorator(func):\n",
    "        print(\"decorator is running\")\n",
    "        func()\n",
    "        print(\"still running\")\n",
    "\n",
    "    def oh_hi():\n",
    "        print(\"Hello there!\")\n",
    "\n",
    "hello = the_decorator(oh_hi)    "
   ]
  },
  {
   "cell_type": "code",
   "execution_count": null,
   "id": "6b4370de-d2b3-4a4b-b99c-24d6692a0306",
   "metadata": {},
   "outputs": [],
   "source": [
    "#principles of oop\n",
    "#encapsulation\n",
    "#inheritance\n",
    "#polymorphism\n",
    "#abstraction"
   ]
  }
 ],
 "metadata": {
  "kernelspec": {
   "display_name": "Python 3 (ipykernel)",
   "language": "python",
   "name": "python3"
  },
  "language_info": {
   "codemirror_mode": {
    "name": "ipython",
    "version": 3
   },
   "file_extension": ".py",
   "mimetype": "text/x-python",
   "name": "python",
   "nbconvert_exporter": "python",
   "pygments_lexer": "ipython3",
   "version": "3.9.11"
  }
 },
 "nbformat": 4,
 "nbformat_minor": 5
}
