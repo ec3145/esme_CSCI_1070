{
 "cells": [
  {
   "cell_type": "code",
   "execution_count": 17,
   "id": "f820e244-901d-44ea-9d3d-161275f7b433",
   "metadata": {},
   "outputs": [
    {
     "name": "stdout",
     "output_type": "stream",
     "text": [
      "January\n",
      "February\n",
      "March: my birthday\n",
      "April\n",
      "May\n",
      "June\n",
      "July\n",
      "August\n",
      "September\n",
      "October\n",
      "November\n",
      "December\n"
     ]
    }
   ],
   "source": [
    "months = [\"January\",\"February\",\"March\",\"April\",\"May\",\"June\",\"July\",\"August\",\"September\",\"October\",\"November\",\"December\"] \n",
    "birthday=\"March\"\n",
    "for month in months:\n",
    "    if month == birthday:\n",
    "        print(f\"{month}: my birthday\")\n",
    "    else:\n",
    "        print(month)\n"
   ]
  },
  {
   "cell_type": "code",
   "execution_count": null,
   "id": "1996012c-ad69-4512-a06e-b2a23cfa05b4",
   "metadata": {},
   "outputs": [],
   "source": []
  },
  {
   "cell_type": "code",
   "execution_count": null,
   "id": "c4fbfa61-2b89-480e-bdfc-9da006c17ab6",
   "metadata": {},
   "outputs": [],
   "source": []
  }
 ],
 "metadata": {
  "kernelspec": {
   "display_name": "Python 3 (ipykernel)",
   "language": "python",
   "name": "python3"
  },
  "language_info": {
   "codemirror_mode": {
    "name": "ipython",
    "version": 3
   },
   "file_extension": ".py",
   "mimetype": "text/x-python",
   "name": "python",
   "nbconvert_exporter": "python",
   "pygments_lexer": "ipython3",
   "version": "3.9.11"
  }
 },
 "nbformat": 4,
 "nbformat_minor": 5
}
