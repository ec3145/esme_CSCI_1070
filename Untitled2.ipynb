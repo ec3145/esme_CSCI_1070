{
 "cells": [
  {
   "cell_type": "code",
   "execution_count": 1,
   "id": "85a0aa81-0174-4d34-a80c-d8f7315d118f",
   "metadata": {},
   "outputs": [],
   "source": [
    "import numpy as np\n",
    "import pandas as pd\n"
   ]
  },
  {
   "cell_type": "code",
   "execution_count": 7,
   "id": "a645a485-cc78-45d2-b6b6-9dffcf58d01b",
   "metadata": {},
   "outputs": [
    {
     "data": {
      "text/plain": [
       "0                         Braund, Mr. Owen Harris\n",
       "2                          Heikkinen, Miss. Laina\n",
       "3    Futrelle, Mrs. Jacques Heath (Lily May Peel)\n",
       "4                        Allen, Mr. William Henry\n",
       "6                         McCarthy, Mr. Timothy J\n",
       "Name: Name, dtype: object"
      ]
     },
     "execution_count": 7,
     "metadata": {},
     "output_type": "execute_result"
    }
   ],
   "source": [
    "titanic_df = pd.read_csv(\"titanic.csv\")\n",
    "#old code\n",
    "#name = df.Name()\n",
    "#embarked = df.Embarked()\n",
    "#boo_titanic = titanic_df['Embarked'] == \"S\"\n",
    "\n",
    "#new code\n",
    "titanic_df['Name'][titanic_df['Embarked'] == \"S\"].head()\n"
   ]
  },
  {
   "cell_type": "code",
   "execution_count": null,
   "id": "7178da20-1d47-4122-970e-3bff02302363",
   "metadata": {},
   "outputs": [],
   "source": []
  }
 ],
 "metadata": {
  "kernelspec": {
   "display_name": "Python 3 (ipykernel)",
   "language": "python",
   "name": "python3"
  },
  "language_info": {
   "codemirror_mode": {
    "name": "ipython",
    "version": 3
   },
   "file_extension": ".py",
   "mimetype": "text/x-python",
   "name": "python",
   "nbconvert_exporter": "python",
   "pygments_lexer": "ipython3",
   "version": "3.9.11"
  }
 },
 "nbformat": 4,
 "nbformat_minor": 5
}
