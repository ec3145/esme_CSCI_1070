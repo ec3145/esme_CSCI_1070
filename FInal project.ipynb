{
 "cells": [
  {
   "cell_type": "markdown",
   "metadata": {},
   "source": [
    "1. Are you working alone or with someone else? If working with someone please put their name.\n",
    "I am working alone and my plan for working on this is to start little by little everyday coding and figuring out what to do based on the rubric and assignment details. I plan on first cleaning up my data and then going from there. THe amount of time i plan to dedicate to this project would be up to 2-5 hours maybe every two days or every other day. I will try and set up calendar reminders and put in the work on the days I don't have class and weekends. \n",
    "\n",
    "2. What dataset are you going to use (you can select more or less anything not already used in class or homework)? \n",
    "The dataset I will be using is an animal crossing related database.https://drive.google.com/file/d/1lAIxHCcjV66AO_ds4b9Dc-mFSCvEeWW8/view?usp=sharing\n",
    "            \n",
    "\n",
    "3. What is your starting hypothesis about the data? Create a null hypothesis and an alternative hypothesis as follows:\n",
    "Is there a difference between the villagers' favorite song based on the villagers personality and gender?\n",
    "Null: For the dataset of villagers in animal crossing there will be no difference of the favorite song to the personality and gender of the villager and is just at random.\n",
    "Alternative: For the dataset of villagers in animal crossing  there will be a difference of their favorite song to the personality and gender as they have distinct choices. \n",
    "\n",
    "4. What models do you plan to apply to your data first? \n",
    "One model I have in mind would be clustering because it will cluster up the data into similarities which is what I would need to conduct in order to see similarities in music and personality. I could do hierarchical clustering to see the tree of information and will make it easier to see the relationships. \n",
    "\n"
   ]
  },
  {
   "cell_type": "markdown",
   "metadata": {},
   "source": []
  }
 ],
 "metadata": {
  "kernelspec": {
   "display_name": "Python 3",
   "language": "python",
   "name": "python3"
  },
  "language_info": {
   "name": "python",
   "version": "3.9.11"
  }
 },
 "nbformat": 4,
 "nbformat_minor": 2
}
