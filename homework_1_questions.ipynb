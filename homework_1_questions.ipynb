{
 "cells": [
  {
   "cell_type": "markdown",
   "metadata": {},
   "source": [
    "### Homework 1\n",
    "\n",
    "Skim this Homework before you do your reading assignments. It will help focus your attention. \n",
    "\n",
    "Provide written answers to questions with a `#comment`. \n",
    "\n",
    "Answer the first 8 question **first** to make sure you understand the core concepts. The rest may be completed in any order.\n",
    "\n",
    "Each question is worth one point unless otherwise stated.\n",
    "\n",
    "Please note: I hope this assignment gets you to tinker with Python. I learn a lot by playing around, and it is important to me that you eventually do too!"
   ]
  },
  {
   "cell_type": "markdown",
   "metadata": {},
   "source": [
    "1. How can you get more information about a function or an object from inside a jupyter cell? "
   ]
  },
  {
   "cell_type": "code",
   "execution_count": null,
   "metadata": {},
   "outputs": [],
   "source": [
    "# you can put your cursor above the function and press shift-tab"
   ]
  },
  {
   "cell_type": "markdown",
   "metadata": {},
   "source": [
    "2. How can you determine the data type of an object? Describe one data type and what it is."
   ]
  },
  {
   "cell_type": "code",
   "execution_count": null,
   "metadata": {},
   "outputs": [],
   "source": [
    "# you can determine the data type of an object by their features\n",
    "# one data type i can name is an integer which is a whole number "
   ]
  },
  {
   "cell_type": "markdown",
   "metadata": {},
   "source": [
    "3. What does assignment mean? Assign a variable named `x` and give it a value of `'yellow'`."
   ]
  },
  {
   "cell_type": "code",
   "execution_count": null,
   "metadata": {},
   "outputs": [],
   "source": [
    "# assignment means = which basically assigns a value to a variable \n",
    "x = yellow"
   ]
  },
  {
   "cell_type": "markdown",
   "metadata": {},
   "source": [
    "4. You have an assortment of items you will need to keep track of. What would be a good data structure to keep them in? Provide an example in code. Make sure your code runs!"
   ]
  },
  {
   "cell_type": "code",
   "execution_count": 2,
   "metadata": {},
   "outputs": [],
   "source": [
    "# a good data structure would be a list \n",
    "items = (\"keys\", \"lip balm\", \"money\")"
   ]
  },
  {
   "cell_type": "markdown",
   "metadata": {},
   "source": [
    "5. You have an assortment of names and telephone numbers. What might be a good data structure to keep them in? Show an example with code. Make sure your code runs!"
   ]
  },
  {
   "cell_type": "code",
   "execution_count": 5,
   "metadata": {},
   "outputs": [
    {
     "name": "stdout",
     "output_type": "stream",
     "text": [
      "{'Mary': 21488099000, 'Jacob': 4697923200, 'Ricky': 46921466600}\n"
     ]
    }
   ],
   "source": [
    "# a good data structue would be a dictionary \n",
    "\n",
    "phone_numbers = {\"Mary\" : 21488099000,\n",
    "                 \"Jacob\" : 4697923200,\n",
    "                 \"Ricky\" : 46921466600}\n",
    "print(phone_numbers)\n"
   ]
  },
  {
   "cell_type": "markdown",
   "metadata": {},
   "source": [
    "6. You need to create a copy of an important list and alter the copy. Why is the following code a bad idea? "
   ]
  },
  {
   "cell_type": "code",
   "execution_count": 1,
   "metadata": {},
   "outputs": [],
   "source": [
    "list1 = [2,4,6]\n",
    "list2 = list1\n",
    "list2[0]= 8"
   ]
  },
  {
   "cell_type": "code",
   "execution_count": 6,
   "metadata": {},
   "outputs": [],
   "source": [
    "# this code is a bad idea because estentially both list1 and list2 are the same since list2 = list1. \n",
    "# So if alterartions are needed to be made it could be difficult due to them \n",
    "# running the same code. "
   ]
  },
  {
   "cell_type": "markdown",
   "metadata": {},
   "source": [
    "7. What is truthy and falsey? Provide a list example **and** a string example of something that is truthy and something that is falsey."
   ]
  },
  {
   "cell_type": "code",
   "execution_count": 17,
   "metadata": {},
   "outputs": [
    {
     "name": "stdout",
     "output_type": "stream",
     "text": [
      "True\n"
     ]
    },
    {
     "data": {
      "text/plain": [
       "False"
      ]
     },
     "execution_count": 17,
     "metadata": {},
     "output_type": "execute_result"
    }
   ],
   "source": [
    "# truthy means that the varuable is true \n",
    "# falsey means its not true \n",
    "# both are in a bool context \n",
    "x = 'home'\n",
    "print (x == 'home')\n",
    "\n",
    "bool('')"
   ]
  },
  {
   "cell_type": "markdown",
   "metadata": {},
   "source": [
    "8. What is the difference between a dynamically typed and statically typed language? \n",
    "\n",
    "Which one is python? \n",
    "\n",
    "When is that a good thing? \n",
    "\n",
    "When is that a bad thing? "
   ]
  },
  {
   "cell_type": "code",
   "execution_count": null,
   "metadata": {},
   "outputs": [],
   "source": [
    "# the difference between dynamically and statically typed language is one runs im compie time and the other in run time \n",
    "# dynamically is python \n",
    "# when prototyping\n",
    "# debugging "
   ]
  },
  {
   "cell_type": "markdown",
   "metadata": {},
   "source": [
    "9. Here is a [link](https://docs.python.org/3/library/functions.html) to the python `built-in functions`. Choose 2 and give an example of how to use them. "
   ]
  },
  {
   "cell_type": "code",
   "execution_count": null,
   "metadata": {},
   "outputs": [],
   "source": []
  },
  {
   "cell_type": "markdown",
   "metadata": {},
   "source": [
    "10. What `operator` might help me determine if an integer is even or odd? Provide a code example, and make sure it runs!"
   ]
  },
  {
   "cell_type": "code",
   "execution_count": 23,
   "metadata": {},
   "outputs": [
    {
     "name": "stdout",
     "output_type": "stream",
     "text": [
      "Even\n"
     ]
    }
   ],
   "source": [
    "# if else operator \n",
    "number = 8\n",
    "if number % 2== 0:\n",
    "    print (\"Even\")\n",
    "else:\n",
    "    print (\"odd\")"
   ]
  },
  {
   "cell_type": "markdown",
   "metadata": {},
   "source": [
    "11. What is a python expression? What does an expression evalute to? "
   ]
  },
  {
   "cell_type": "code",
   "execution_count": null,
   "metadata": {},
   "outputs": [],
   "source": [
    "# combonation of operators \n",
    "# evalutes to the precendence of operations "
   ]
  },
  {
   "cell_type": "markdown",
   "metadata": {},
   "source": [
    "12. Provide an expression that evaluates which variable is greater. "
   ]
  },
  {
   "cell_type": "code",
   "execution_count": 24,
   "metadata": {
    "scrolled": true
   },
   "outputs": [
    {
     "name": "stdout",
     "output_type": "stream",
     "text": [
      "foo is greater\n"
     ]
    }
   ],
   "source": [
    "foo = 77\n",
    "bar = 38\n",
    "\n",
    "if foo == bar:\n",
    "    print(\"they are equal\")\n",
    "elif foo>bar:\n",
    "    print(\"foo is greater\")\n",
    "elif bar>foo:\n",
    "    print(\"bar is greater\")\n"
   ]
  },
  {
   "cell_type": "markdown",
   "metadata": {},
   "source": [
    "13. Provide an if statement (inside the provided for loop) that prints 'even' if the number is even, 'odd' if the number is odd, and 'found it!' if the number is 3."
   ]
  },
  {
   "cell_type": "code",
   "execution_count": 54,
   "metadata": {},
   "outputs": [
    {
     "ename": "TypeError",
     "evalue": "'str' object is not callable",
     "output_type": "error",
     "traceback": [
      "\u001b[1;31m---------------------------------------------------------------------------\u001b[0m",
      "\u001b[1;31mTypeError\u001b[0m                                 Traceback (most recent call last)",
      "Cell \u001b[1;32mIn[54], line 7\u001b[0m\n\u001b[0;32m      5\u001b[0m   \u001b[38;5;28mprint\u001b[39m (\u001b[38;5;124m\"\u001b[39m\u001b[38;5;124mEVEN\u001b[39m\u001b[38;5;124m\"\u001b[39m)\n\u001b[0;32m      6\u001b[0m \u001b[38;5;28;01melse\u001b[39;00m:\n\u001b[1;32m----> 7\u001b[0m   \u001b[38;5;28;43mprint\u001b[39;49m\u001b[43m \u001b[49m\u001b[43m(\u001b[49m\u001b[38;5;124;43m\"\u001b[39;49m\u001b[38;5;124;43mODD\u001b[39;49m\u001b[38;5;124;43m\"\u001b[39;49m\u001b[43m)\u001b[49m\n",
      "\u001b[1;31mTypeError\u001b[0m: 'str' object is not callable"
     ]
    }
   ],
   "source": [
    "my_list = [1,2,3,4,5,6,7,8,9]\n",
    "\n",
    "for i in my_list:\n",
    "     if i%2 == 0:\n",
    "       print (\"EVEN\")\n",
    "     else:\n",
    "       print (\"ODD\")"
   ]
  },
  {
   "cell_type": "markdown",
   "metadata": {},
   "source": [
    "14. What is the greater than equal to operator? Show a code example of how it is used. "
   ]
  },
  {
   "cell_type": "code",
   "execution_count": 56,
   "metadata": {},
   "outputs": [
    {
     "data": {
      "text/plain": [
       "False"
      ]
     },
     "execution_count": 56,
     "metadata": {},
     "output_type": "execute_result"
    }
   ],
   "source": [
    "# the greater than equal to operator is >= and compares values \n",
    "\n",
    "40 >= 90"
   ]
  },
  {
   "cell_type": "markdown",
   "metadata": {},
   "source": [
    "15. What is the floored division operator? Show a code example of how it is used. "
   ]
  },
  {
   "cell_type": "code",
   "execution_count": 55,
   "metadata": {},
   "outputs": [
    {
     "data": {
      "text/plain": [
       "2"
      ]
     },
     "execution_count": 55,
     "metadata": {},
     "output_type": "execute_result"
    }
   ],
   "source": [
    "# the floored divsion operator is //\n",
    "5 // 2"
   ]
  },
  {
   "cell_type": "markdown",
   "metadata": {},
   "source": [
    "16. Why does the following give an error? Show how to fix it."
   ]
  },
  {
   "cell_type": "code",
   "execution_count": 1,
   "metadata": {},
   "outputs": [
    {
     "ename": "SyntaxError",
     "evalue": "invalid decimal literal (445552376.py, line 1)",
     "output_type": "error",
     "traceback": [
      "\u001b[0;36m  Cell \u001b[0;32mIn[1], line 1\u001b[0;36m\u001b[0m\n\u001b[0;31m    2cars = ('Ferarri', 'Mustang')\u001b[0m\n\u001b[0m    ^\u001b[0m\n\u001b[0;31mSyntaxError\u001b[0m\u001b[0;31m:\u001b[0m invalid decimal literal\n"
     ]
    }
   ],
   "source": [
    "2cars = ('Ferarri', 'Mustang')"
   ]
  },
  {
   "cell_type": "code",
   "execution_count": 5,
   "metadata": {},
   "outputs": [],
   "source": [
    "# the cell needed quotations in order to run and integers cannot go before variables\n",
    "cars2 = (\"ferarri\", \"mustang\")"
   ]
  },
  {
   "cell_type": "markdown",
   "metadata": {},
   "source": [
    "17. Why does this if statement evaluate to true and do what's in the if body? \n",
    "You will see this shortcut a lot and it can be confusing."
   ]
  },
  {
   "cell_type": "code",
   "execution_count": 7,
   "metadata": {},
   "outputs": [
    {
     "name": "stdout",
     "output_type": "stream",
     "text": [
      "Hooray!\n"
     ]
    }
   ],
   "source": [
    "some_list = ['fizz','buzz',1,{'key':'value'}]\n",
    "\n",
    "if some_list:\n",
    "    print('Hooray!')"
   ]
  },
  {
   "cell_type": "code",
   "execution_count": null,
   "metadata": {},
   "outputs": [],
   "source": []
  },
  {
   "cell_type": "markdown",
   "metadata": {},
   "source": [
    "18. Write an expression that raises one number to the power of 8. "
   ]
  },
  {
   "cell_type": "code",
   "execution_count": 62,
   "metadata": {},
   "outputs": [
    {
     "data": {
      "text/plain": [
       "256"
      ]
     },
     "execution_count": 62,
     "metadata": {},
     "output_type": "execute_result"
    }
   ],
   "source": [
    "pow(2, 8)"
   ]
  },
  {
   "cell_type": "markdown",
   "metadata": {},
   "source": [
    "19. How can you change `my_var` form an `int` to a `str`?"
   ]
  },
  {
   "cell_type": "code",
   "execution_count": 3,
   "metadata": {},
   "outputs": [],
   "source": [
    "my_var = 65"
   ]
  },
  {
   "cell_type": "code",
   "execution_count": 64,
   "metadata": {},
   "outputs": [
    {
     "data": {
      "text/plain": [
       "'65'"
      ]
     },
     "execution_count": 64,
     "metadata": {},
     "output_type": "execute_result"
    }
   ],
   "source": [
    "my_var = 65\n",
    "str(my_var)"
   ]
  },
  {
   "cell_type": "markdown",
   "metadata": {},
   "source": [
    "20. Slice `some_string` to only include the words `quarter to eight`. "
   ]
  },
  {
   "cell_type": "code",
   "execution_count": 5,
   "metadata": {},
   "outputs": [],
   "source": [
    "some_string = \"I have got a date at a quarter to eight; I'll see you at the gate, so don't be late\""
   ]
  },
  {
   "cell_type": "code",
   "execution_count": 73,
   "metadata": {},
   "outputs": [
    {
     "data": {
      "text/plain": [
       "'quarter to eight;'"
      ]
     },
     "execution_count": 73,
     "metadata": {},
     "output_type": "execute_result"
    }
   ],
   "source": [
    "some_string = \"I have got a date at a quarter to eight; I'll see you at the gate, so don't be late\"\n",
    "some_string[23:40]"
   ]
  },
  {
   "cell_type": "markdown",
   "metadata": {},
   "source": [
    "21. Assign a new **variable** `sport` (that you define) to the 3rd element in the list."
   ]
  },
  {
   "cell_type": "code",
   "execution_count": 8,
   "metadata": {},
   "outputs": [],
   "source": [
    "my_favorite_teams= ['Chiefs', 'Cardinals', 'Blues', 'Billikens','Battlehawks', 'No sports ball for me']"
   ]
  },
  {
   "cell_type": "code",
   "execution_count": 15,
   "metadata": {},
   "outputs": [
    {
     "ename": "SyntaxError",
     "evalue": "invalid syntax (1699517344.py, line 2)",
     "output_type": "error",
     "traceback": [
      "\u001b[1;36m  Cell \u001b[1;32mIn[15], line 2\u001b[1;36m\u001b[0m\n\u001b[1;33m    sport = my_favorite_teams(2)\u001b[0m\n\u001b[1;37m    ^\u001b[0m\n\u001b[1;31mSyntaxError\u001b[0m\u001b[1;31m:\u001b[0m invalid syntax\n"
     ]
    }
   ],
   "source": [
    "my_favorite_teams = ['Chiefs', 'Cardinals', 'Blues', 'Billikens', 'Battlehawks', 'No sports ball for me'\n",
    "sport = my_favorite_teams(2)"
   ]
  },
  {
   "cell_type": "markdown",
   "metadata": {},
   "source": [
    "22. What is the use case for the `dir()` method? "
   ]
  },
  {
   "cell_type": "code",
   "execution_count": null,
   "metadata": {},
   "outputs": [],
   "source": [
    "# list attributes aplhabetically "
   ]
  },
  {
   "cell_type": "markdown",
   "metadata": {},
   "source": [
    "23. (3 pts) Write a function that takes in any number and triples it. Give the function a default value if no number is passed in."
   ]
  },
  {
   "cell_type": "code",
   "execution_count": null,
   "metadata": {},
   "outputs": [],
   "source": []
  },
  {
   "cell_type": "markdown",
   "metadata": {},
   "source": [
    "Bonus (2 pts): Iterate through integers_list and print values that are multiples of 9."
   ]
  },
  {
   "cell_type": "code",
   "execution_count": 9,
   "metadata": {},
   "outputs": [],
   "source": [
    "import random\n",
    "integers_list = [random.randint(0,1000) for i in range(50)] # a list comprehension\n",
    "\n",
    "# your code here"
   ]
  },
  {
   "cell_type": "code",
   "execution_count": null,
   "metadata": {},
   "outputs": [],
   "source": []
  }
 ],
 "metadata": {
  "kernelspec": {
   "display_name": "Python 3 (ipykernel)",
   "language": "python",
   "name": "python3"
  },
  "language_info": {
   "codemirror_mode": {
    "name": "ipython",
    "version": 3
   },
   "file_extension": ".py",
   "mimetype": "text/x-python",
   "name": "python",
   "nbconvert_exporter": "python",
   "pygments_lexer": "ipython3",
   "version": "3.9.11"
  }
 },
 "nbformat": 4,
 "nbformat_minor": 4
}
