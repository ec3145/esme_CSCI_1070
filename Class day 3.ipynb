{
 "cells": [
  {
   "cell_type": "code",
   "execution_count": 1,
   "id": "226b2d95-5205-43f4-9345-250b734a260a",
   "metadata": {},
   "outputs": [],
   "source": [
    "# the command ls is to list files and directories so it will show what files and where you want to go\n",
    "# ls-shows you where u are/ and whats in it\n",
    "# cd-change directory-takes you to user profile"
   ]
  },
  {
   "cell_type": "code",
   "execution_count": 7,
   "id": "fb47f753-8e72-43ed-ac33-e997093d2b4d",
   "metadata": {},
   "outputs": [
    {
     "name": "stdout",
     "output_type": "stream",
     "text": [
      "The variable x has the value of class\n"
     ]
    }
   ],
   "source": [
    "x = 'class'\n",
    "print(\"The variable x has the value of\", x)"
   ]
  },
  {
   "cell_type": "raw",
   "id": "7345b13f-5679-4868-a479-7ab044924a24",
   "metadata": {},
   "source": [
    "print(f\"The variable x has the value of{x}\")"
   ]
  },
  {
   "cell_type": "code",
   "execution_count": 14,
   "id": "d41e0590-2b09-4f6b-bd61-2264cd0633c1",
   "metadata": {},
   "outputs": [],
   "source": [
    "# flow control- how you move through a file "
   ]
  },
  {
   "cell_type": "code",
   "execution_count": null,
   "id": "98933357-419f-4f6e-b944-3e72679f929f",
   "metadata": {},
   "outputs": [],
   "source": []
  }
 ],
 "metadata": {
  "kernelspec": {
   "display_name": "Python 3 (ipykernel)",
   "language": "python",
   "name": "python3"
  },
  "language_info": {
   "codemirror_mode": {
    "name": "ipython",
    "version": 3
   },
   "file_extension": ".py",
   "mimetype": "text/x-python",
   "name": "python",
   "nbconvert_exporter": "python",
   "pygments_lexer": "ipython3",
   "version": "3.9.11"
  }
 },
 "nbformat": 4,
 "nbformat_minor": 5
}
