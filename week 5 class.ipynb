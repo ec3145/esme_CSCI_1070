{
 "cells": [
  {
   "cell_type": "markdown",
   "id": "cd19da60-aed1-41f9-b911-72a718580e3e",
   "metadata": {},
   "source": [
    "Scales of Measurement(WIll BE ON MIDTERM SO STUDY)\n",
    "\n",
    "Nominal-Categories that do not have a natural order. EX:blood type,zip, etc\n",
    "Ordinal-Categories where order matters but the diff between them is neither clear nor even. EX: happy level 1-10\n",
    "Interval-There is order and the diff between two values is meaningful. EX:Temp, Ph\n",
    "Ratio-The same as interval except it has a concept of 0. no negative numbers. EX:concentration, weight"
   ]
  },
  {
   "cell_type": "markdown",
   "id": "a30008eb-d026-4ee3-9015-4f8d6a487f64",
   "metadata": {},
   "source": [
    "Statistics in Python\n",
    "\n",
    "Central tendency-represents center point or \"typical\"value of a dataset\n",
    "-As a result, our rule of thumb is to replace null values with the mean when the\n",
    "data is normally distributed and replace null values with the median when data is skewed"
   ]
  },
  {
   "cell_type": "markdown",
   "id": "e4a8352a-71b4-441d-a76d-8ab51f0e64cc",
   "metadata": {},
   "source": [
    "negative correlation-when one goes up the other goes down;they are going in oppisite directions\n",
    "\n",
    "postive correlation-going the same way\n",
    "\n",
    "no correlation-x and y have no correlation"
   ]
  },
  {
   "cell_type": "code",
   "execution_count": 1,
   "id": "8a22d2f3-3895-4fce-bf1b-90d133183d0e",
   "metadata": {},
   "outputs": [
    {
     "data": {
      "text/html": [
       "<div>\n",
       "<style scoped>\n",
       "    .dataframe tbody tr th:only-of-type {\n",
       "        vertical-align: middle;\n",
       "    }\n",
       "\n",
       "    .dataframe tbody tr th {\n",
       "        vertical-align: top;\n",
       "    }\n",
       "\n",
       "    .dataframe thead th {\n",
       "        text-align: right;\n",
       "    }\n",
       "</style>\n",
       "<table border=\"1\" class=\"dataframe\">\n",
       "  <thead>\n",
       "    <tr style=\"text-align: right;\">\n",
       "      <th></th>\n",
       "      <th>color</th>\n",
       "      <th>size</th>\n",
       "      <th>price</th>\n",
       "      <th>type</th>\n",
       "    </tr>\n",
       "  </thead>\n",
       "  <tbody>\n",
       "    <tr>\n",
       "      <th>0</th>\n",
       "      <td>blue</td>\n",
       "      <td>S</td>\n",
       "      <td>20</td>\n",
       "      <td>Lemon Shirt</td>\n",
       "    </tr>\n",
       "    <tr>\n",
       "      <th>1</th>\n",
       "      <td>blue</td>\n",
       "      <td>M</td>\n",
       "      <td>50</td>\n",
       "      <td>Jeans</td>\n",
       "    </tr>\n",
       "    <tr>\n",
       "      <th>2</th>\n",
       "      <td>beige</td>\n",
       "      <td>M</td>\n",
       "      <td>7</td>\n",
       "      <td>Bucket Hat</td>\n",
       "    </tr>\n",
       "  </tbody>\n",
       "</table>\n",
       "</div>"
      ],
      "text/plain": [
       "   color size  price         type\n",
       "0   blue    S     20  Lemon Shirt\n",
       "1   blue    M     50        Jeans\n",
       "2  beige    M      7   Bucket Hat"
      ]
     },
     "execution_count": 1,
     "metadata": {},
     "output_type": "execute_result"
    }
   ],
   "source": [
    "import pandas as pd\n",
    "df_clothes = pd.DataFrame(data = [['blue','S',20, 'Lemon Shirt'],\n",
    "                                  ['blue','M',50,'Jeans'],\n",
    "                                  ['beige','M',7,'Bucket Hat']])\n",
    "df_clothes.columns = ['color','size','price','type']\n",
    "df_clothes"
   ]
  },
  {
   "cell_type": "code",
   "execution_count": 2,
   "id": "5a915252-34da-43a7-ac39-44d01c86e8b3",
   "metadata": {},
   "outputs": [
    {
     "data": {
      "text/html": [
       "<div>\n",
       "<style scoped>\n",
       "    .dataframe tbody tr th:only-of-type {\n",
       "        vertical-align: middle;\n",
       "    }\n",
       "\n",
       "    .dataframe tbody tr th {\n",
       "        vertical-align: top;\n",
       "    }\n",
       "\n",
       "    .dataframe thead th {\n",
       "        text-align: right;\n",
       "    }\n",
       "</style>\n",
       "<table border=\"1\" class=\"dataframe\">\n",
       "  <thead>\n",
       "    <tr style=\"text-align: right;\">\n",
       "      <th></th>\n",
       "      <th>color</th>\n",
       "      <th>size</th>\n",
       "      <th>price</th>\n",
       "      <th>type</th>\n",
       "    </tr>\n",
       "  </thead>\n",
       "  <tbody>\n",
       "    <tr>\n",
       "      <th>0</th>\n",
       "      <td>blue</td>\n",
       "      <td>1</td>\n",
       "      <td>20</td>\n",
       "      <td>Lemon Shirt</td>\n",
       "    </tr>\n",
       "    <tr>\n",
       "      <th>1</th>\n",
       "      <td>blue</td>\n",
       "      <td>2</td>\n",
       "      <td>50</td>\n",
       "      <td>Jeans</td>\n",
       "    </tr>\n",
       "    <tr>\n",
       "      <th>2</th>\n",
       "      <td>beige</td>\n",
       "      <td>2</td>\n",
       "      <td>7</td>\n",
       "      <td>Bucket Hat</td>\n",
       "    </tr>\n",
       "  </tbody>\n",
       "</table>\n",
       "</div>"
      ],
      "text/plain": [
       "   color  size  price         type\n",
       "0   blue     1     20  Lemon Shirt\n",
       "1   blue     2     50        Jeans\n",
       "2  beige     2      7   Bucket Hat"
      ]
     },
     "execution_count": 2,
     "metadata": {},
     "output_type": "execute_result"
    }
   ],
   "source": [
    "#can convert categorical values to numberical\n",
    "#size is ordinal, so it can be easily encoded\n",
    "\n",
    "size_map = {'S':1,'M':2,'L':3}\n",
    "df_clothes['size'] = df_clothes['size'].map(size_map)\n",
    "df_clothes"
   ]
  },
  {
   "cell_type": "code",
   "execution_count": 3,
   "id": "58107a18-11b6-43a6-ab33-70df1dbc37bc",
   "metadata": {},
   "outputs": [
    {
     "name": "stdout",
     "output_type": "stream",
     "text": [
      "Collecting scikit-learn\n",
      "  Downloading scikit_learn-1.5.2-cp39-cp39-win_amd64.whl.metadata (13 kB)\n",
      "Requirement already satisfied: numpy>=1.19.5 in c:\\python\\python39\\lib\\site-packages (from scikit-learn) (2.0.2)\n",
      "Requirement already satisfied: scipy>=1.6.0 in c:\\python\\python39\\lib\\site-packages (from scikit-learn) (1.13.1)\n",
      "Collecting joblib>=1.2.0 (from scikit-learn)\n",
      "  Downloading joblib-1.4.2-py3-none-any.whl.metadata (5.4 kB)\n",
      "Collecting threadpoolctl>=3.1.0 (from scikit-learn)\n",
      "  Downloading threadpoolctl-3.5.0-py3-none-any.whl.metadata (13 kB)\n",
      "Downloading scikit_learn-1.5.2-cp39-cp39-win_amd64.whl (11.0 MB)\n",
      "   ---------------------------------------- 0.0/11.0 MB ? eta -:--:--\n",
      "   -- ------------------------------------- 0.8/11.0 MB 8.5 MB/s eta 0:00:02\n",
      "   ----- ---------------------------------- 1.6/11.0 MB 4.9 MB/s eta 0:00:02\n",
      "   -------- ------------------------------- 2.4/11.0 MB 4.5 MB/s eta 0:00:02\n",
      "   ----------- ---------------------------- 3.1/11.0 MB 4.0 MB/s eta 0:00:02\n",
      "   ------------- -------------------------- 3.7/11.0 MB 3.8 MB/s eta 0:00:02\n",
      "   ------------------- -------------------- 5.2/11.0 MB 4.4 MB/s eta 0:00:02\n",
      "   ---------------------- ----------------- 6.3/11.0 MB 4.5 MB/s eta 0:00:02\n",
      "   ------------------------------- -------- 8.7/11.0 MB 5.4 MB/s eta 0:00:01\n",
      "   ---------------------------------------  11.0/11.0 MB 6.1 MB/s eta 0:00:01\n",
      "   ---------------------------------------- 11.0/11.0 MB 5.9 MB/s eta 0:00:00\n",
      "Downloading joblib-1.4.2-py3-none-any.whl (301 kB)\n",
      "Downloading threadpoolctl-3.5.0-py3-none-any.whl (18 kB)\n",
      "Installing collected packages: threadpoolctl, joblib, scikit-learn\n",
      "Successfully installed joblib-1.4.2 scikit-learn-1.5.2 threadpoolctl-3.5.0\n",
      "Note: you may need to restart the kernel to use updated packages.\n"
     ]
    }
   ],
   "source": [
    "%pip install scikit-learn"
   ]
  },
  {
   "cell_type": "code",
   "execution_count": 6,
   "id": "72927fd5-ba23-4a41-958d-1ead1468d801",
   "metadata": {},
   "outputs": [
    {
     "data": {
      "text/html": [
       "<div>\n",
       "<style scoped>\n",
       "    .dataframe tbody tr th:only-of-type {\n",
       "        vertical-align: middle;\n",
       "    }\n",
       "\n",
       "    .dataframe tbody tr th {\n",
       "        vertical-align: top;\n",
       "    }\n",
       "\n",
       "    .dataframe thead th {\n",
       "        text-align: right;\n",
       "    }\n",
       "</style>\n",
       "<table border=\"1\" class=\"dataframe\">\n",
       "  <thead>\n",
       "    <tr style=\"text-align: right;\">\n",
       "      <th></th>\n",
       "      <th>color</th>\n",
       "      <th>size</th>\n",
       "      <th>price</th>\n",
       "      <th>type</th>\n",
       "      <th>types</th>\n",
       "    </tr>\n",
       "  </thead>\n",
       "  <tbody>\n",
       "    <tr>\n",
       "      <th>0</th>\n",
       "      <td>blue</td>\n",
       "      <td>1</td>\n",
       "      <td>20</td>\n",
       "      <td>Lemon Shirt</td>\n",
       "      <td>2</td>\n",
       "    </tr>\n",
       "    <tr>\n",
       "      <th>1</th>\n",
       "      <td>blue</td>\n",
       "      <td>2</td>\n",
       "      <td>50</td>\n",
       "      <td>Jeans</td>\n",
       "      <td>1</td>\n",
       "    </tr>\n",
       "    <tr>\n",
       "      <th>2</th>\n",
       "      <td>beige</td>\n",
       "      <td>2</td>\n",
       "      <td>7</td>\n",
       "      <td>Bucket Hat</td>\n",
       "      <td>0</td>\n",
       "    </tr>\n",
       "  </tbody>\n",
       "</table>\n",
       "</div>"
      ],
      "text/plain": [
       "   color  size  price         type  types\n",
       "0   blue     1     20  Lemon Shirt      2\n",
       "1   blue     2     50        Jeans      1\n",
       "2  beige     2      7   Bucket Hat      0"
      ]
     },
     "execution_count": 6,
     "metadata": {},
     "output_type": "execute_result"
    }
   ],
   "source": [
    "#very good for nominal values\n",
    "#where we want a number so it processes faster\n",
    "#but the number doesnt mean anything\n",
    "from sklearn.preprocessing import LabelEncoder\n",
    "\n",
    "class_labels = LabelEncoder()\n",
    "\n",
    "df_clothes['types'] = class_labels.fit_transform(df_clothes['type'].values)\n",
    "df_clothes\n"
   ]
  },
  {
   "cell_type": "code",
   "execution_count": 7,
   "id": "77fc5cbe-7c9a-4085-8d36-e362feb156a6",
   "metadata": {},
   "outputs": [
    {
     "data": {
      "text/html": [
       "<div>\n",
       "<style scoped>\n",
       "    .dataframe tbody tr th:only-of-type {\n",
       "        vertical-align: middle;\n",
       "    }\n",
       "\n",
       "    .dataframe tbody tr th {\n",
       "        vertical-align: top;\n",
       "    }\n",
       "\n",
       "    .dataframe thead th {\n",
       "        text-align: right;\n",
       "    }\n",
       "</style>\n",
       "<table border=\"1\" class=\"dataframe\">\n",
       "  <thead>\n",
       "    <tr style=\"text-align: right;\">\n",
       "      <th></th>\n",
       "      <th>size</th>\n",
       "      <th>price</th>\n",
       "      <th>color_beige</th>\n",
       "      <th>color_blue</th>\n",
       "    </tr>\n",
       "  </thead>\n",
       "  <tbody>\n",
       "    <tr>\n",
       "      <th>0</th>\n",
       "      <td>1</td>\n",
       "      <td>20</td>\n",
       "      <td>False</td>\n",
       "      <td>True</td>\n",
       "    </tr>\n",
       "    <tr>\n",
       "      <th>1</th>\n",
       "      <td>2</td>\n",
       "      <td>50</td>\n",
       "      <td>False</td>\n",
       "      <td>True</td>\n",
       "    </tr>\n",
       "    <tr>\n",
       "      <th>2</th>\n",
       "      <td>2</td>\n",
       "      <td>7</td>\n",
       "      <td>True</td>\n",
       "      <td>False</td>\n",
       "    </tr>\n",
       "  </tbody>\n",
       "</table>\n",
       "</div>"
      ],
      "text/plain": [
       "   size  price  color_beige  color_blue\n",
       "0     1     20        False        True\n",
       "1     2     50        False        True\n",
       "2     2      7         True       False"
      ]
     },
     "execution_count": 7,
     "metadata": {},
     "output_type": "execute_result"
    }
   ],
   "source": [
    "# one hot encoding - easiest way\n",
    "# this doesnt work if you have data \n",
    "#that is already numerical\n",
    "\n",
    "df_clothes = pd.get_dummies(df_clothes[['color','size','price']])\n",
    "df_clothes"
   ]
  },
  {
   "cell_type": "code",
   "execution_count": null,
   "id": "3c34edc8-cde4-4465-970e-b1de54c9e59c",
   "metadata": {},
   "outputs": [],
   "source": []
  }
 ],
 "metadata": {
  "kernelspec": {
   "display_name": "Python 3 (ipykernel)",
   "language": "python",
   "name": "python3"
  },
  "language_info": {
   "codemirror_mode": {
    "name": "ipython",
    "version": 3
   },
   "file_extension": ".py",
   "mimetype": "text/x-python",
   "name": "python",
   "nbconvert_exporter": "python",
   "pygments_lexer": "ipython3",
   "version": "3.9.11"
  }
 },
 "nbformat": 4,
 "nbformat_minor": 5
}
