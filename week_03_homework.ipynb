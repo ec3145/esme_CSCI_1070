{
 "cells": [
  {
   "cell_type": "markdown",
   "metadata": {},
   "source": [
    "### Homework 3 Numpy Arrays and Pandas\n",
    "\n",
    "1. Open `cars.csv` in jupyter and look at the data. (Double click `cars.csv` to open in a new tab).\n",
    "2. We are converting each **column** into a numpy array.\n",
    "3. Notice we have text, integer and float data. \n",
    "4. Take care not to overwrite your starter code."
   ]
  },
  {
   "cell_type": "code",
   "execution_count": 22,
   "metadata": {},
   "outputs": [],
   "source": [
    "#Starter code. Do NOT modify this cell\n",
    "import pandas as pd\n",
    "import numpy as np\n",
    "\n",
    "# Read in dataset\n",
    "df = pd.read_csv('cars.csv',delimiter=';')\n",
    "\n",
    "# Convert each column to an np.array\n",
    "car = df.Car.to_numpy()\n",
    "mpg = df.MPG.to_numpy()\n",
    "cylinders = df.Cylinders.to_numpy()\n",
    "displacement = df.Displacement.to_numpy()\n",
    "horsepower = df.Horsepower.to_numpy()\n",
    "weight = df.Weight.to_numpy()\n",
    "acceleration = df.Acceleration.to_numpy()\n",
    "model = df.Model.to_numpy()\n",
    "origin = df.Origin.to_numpy()\n",
    "\n",
    "# create an array of headers\n",
    "headers = np.array(['Car', 'MPG', 'Cylinders', 'Displacement', 'Horsepower', 'Weight','Acceleration', 'Model', 'Origin'])\n"
   ]
  },
  {
   "cell_type": "markdown",
   "metadata": {},
   "source": [
    "1. (2 pts) What are the numpy datatypes for the `car`,`mpg`, `horsepower` and `origin` arrays? (Hint: Not `type(car)` and use `print()` to print the numpy type.)"
   ]
  },
  {
   "cell_type": "code",
   "execution_count": 20,
   "metadata": {},
   "outputs": [
    {
     "name": "stdout",
     "output_type": "stream",
     "text": [
      "car: object ; mpg: float64 ; horsepower: float64 ; origin: object\n"
     ]
    }
   ],
   "source": [
    "print(\"car:\",car.dtype,\";\",\n",
    "      \"mpg:\", mpg.dtype,\";\",\n",
    "      \"horsepower:\", horsepower.dtype,\";\",\n",
    "      \"origin:\", origin.dtype)"
   ]
  },
  {
   "cell_type": "markdown",
   "metadata": {},
   "source": [
    "2. (1 pt) `numpy` is often imported as `np`. What is this action called? Why might you do this? "
   ]
  },
  {
   "cell_type": "markdown",
   "metadata": {},
   "source": [
    "np is a simplified version of Numpy and its just an easier way to say numpy."
   ]
  },
  {
   "cell_type": "markdown",
   "metadata": {},
   "source": [
    "3. (2 pts) Each of the arrays (cars, mpg, cylinders, etc..) has how many dimensions? Show how to find this using code. "
   ]
  },
  {
   "cell_type": "code",
   "execution_count": 36,
   "metadata": {},
   "outputs": [
    {
     "name": "stdout",
     "output_type": "stream",
     "text": [
      "1\n",
      "1\n",
      "1\n",
      "1\n",
      "1\n",
      "1\n",
      "1\n",
      "1\n",
      "1\n"
     ]
    }
   ],
   "source": [
    "print(car.ndim)\n",
    "print(mpg.ndim)\n",
    "print(cylinders.ndim)\n",
    "print(displacement.ndim)\n",
    "print(horsepower.ndim)\n",
    "print(weight.ndim)\n",
    "print(acceleration.ndim)\n",
    "print(model.ndim)\n",
    "print(origin.ndim)"
   ]
  },
  {
   "cell_type": "markdown",
   "metadata": {},
   "source": [
    "4. (3 pts) What is the ___ of `horsepower`?\n",
    "- sum\n",
    "- min\n",
    "- max\n",
    "- median\n",
    "- Optional: mode (May need to google help) (1 pt extra credit)"
   ]
  },
  {
   "cell_type": "code",
   "execution_count": 28,
   "metadata": {},
   "outputs": [
    {
     "name": "stdout",
     "output_type": "stream",
     "text": [
      "42033.0\n",
      "0.0\n",
      "230.0\n",
      "93.5\n"
     ]
    }
   ],
   "source": [
    "# hp = sum(Horsepower)\n",
    "print(np.sum(horsepower))\n",
    "print(np.min(horsepower))\n",
    "print(np.max(horsepower))\n",
    "print(np.median(horsepower))"
   ]
  },
  {
   "cell_type": "markdown",
   "metadata": {},
   "source": [
    "5. (2 pts) Select the last element in each subarray (do this with one operation.)"
   ]
  },
  {
   "cell_type": "code",
   "execution_count": 41,
   "metadata": {},
   "outputs": [],
   "source": [
    "select_more = np.array([[1,2,3],\n",
    "                      [4,5,6],\n",
    "                      [7,8,9]])\n",
    "# returns array([3, 6, 9])"
   ]
  },
  {
   "cell_type": "code",
   "execution_count": 46,
   "metadata": {},
   "outputs": [
    {
     "data": {
      "text/plain": [
       "array([3, 6, 9])"
      ]
     },
     "execution_count": 46,
     "metadata": {},
     "output_type": "execute_result"
    }
   ],
   "source": [
    "select_more = np.array([[1,2,3],\n",
    "                      [4,5,6],\n",
    "                      [7,8,9]])\n",
    "last = select_more[:, -1]\n",
    "print;(last)"
   ]
  },
  {
   "cell_type": "markdown",
   "metadata": {},
   "source": [
    "6. (2 pts) Use the built-in `np.lookfor()` function to search for `'log'`.\n",
    "\n",
    "Use the function you find and apply it to `mpg`."
   ]
  },
  {
   "cell_type": "code",
   "execution_count": 12,
   "metadata": {},
   "outputs": [
    {
     "ename": "AttributeError",
     "evalue": "`np.lookfor` was removed in the NumPy 2.0 release. Search NumPy's documentation directly.",
     "output_type": "error",
     "traceback": [
      "\u001b[1;31m---------------------------------------------------------------------------\u001b[0m",
      "\u001b[1;31mAttributeError\u001b[0m                            Traceback (most recent call last)",
      "Cell \u001b[1;32mIn[12], line 3\u001b[0m\n\u001b[0;32m      1\u001b[0m \u001b[38;5;28;01mimport\u001b[39;00m \u001b[38;5;21;01mnumpy\u001b[39;00m \u001b[38;5;28;01mas\u001b[39;00m \u001b[38;5;21;01mnp\u001b[39;00m\n\u001b[1;32m----> 3\u001b[0m \u001b[43mnp\u001b[49m\u001b[38;5;241;43m.\u001b[39;49m\u001b[43mlookfor\u001b[49m(\u001b[38;5;124m\"\u001b[39m\u001b[38;5;124mlog\u001b[39m\u001b[38;5;124m\"\u001b[39m)\n",
      "File \u001b[1;32mC:\\Python\\Python39\\lib\\site-packages\\numpy\\__init__.py:427\u001b[0m, in \u001b[0;36m__getattr__\u001b[1;34m(attr)\u001b[0m\n\u001b[0;32m    424\u001b[0m     \u001b[38;5;28;01mraise\u001b[39;00m \u001b[38;5;167;01mAttributeError\u001b[39;00m(__former_attrs__[attr])\n\u001b[0;32m    426\u001b[0m \u001b[38;5;28;01mif\u001b[39;00m attr \u001b[38;5;129;01min\u001b[39;00m __expired_attributes__:\n\u001b[1;32m--> 427\u001b[0m     \u001b[38;5;28;01mraise\u001b[39;00m \u001b[38;5;167;01mAttributeError\u001b[39;00m(\n\u001b[0;32m    428\u001b[0m         \u001b[38;5;124mf\u001b[39m\u001b[38;5;124m\"\u001b[39m\u001b[38;5;124m`np.\u001b[39m\u001b[38;5;132;01m{\u001b[39;00mattr\u001b[38;5;132;01m}\u001b[39;00m\u001b[38;5;124m` was removed in the NumPy 2.0 release. \u001b[39m\u001b[38;5;124m\"\u001b[39m\n\u001b[0;32m    429\u001b[0m         \u001b[38;5;124mf\u001b[39m\u001b[38;5;124m\"\u001b[39m\u001b[38;5;132;01m{\u001b[39;00m__expired_attributes__[attr]\u001b[38;5;132;01m}\u001b[39;00m\u001b[38;5;124m\"\u001b[39m\n\u001b[0;32m    430\u001b[0m     )\n\u001b[0;32m    432\u001b[0m \u001b[38;5;28;01mif\u001b[39;00m attr \u001b[38;5;241m==\u001b[39m \u001b[38;5;124m\"\u001b[39m\u001b[38;5;124mchararray\u001b[39m\u001b[38;5;124m\"\u001b[39m:\n\u001b[0;32m    433\u001b[0m     warnings\u001b[38;5;241m.\u001b[39mwarn(\n\u001b[0;32m    434\u001b[0m         \u001b[38;5;124m\"\u001b[39m\u001b[38;5;124m`np.chararray` is deprecated and will be removed from \u001b[39m\u001b[38;5;124m\"\u001b[39m\n\u001b[0;32m    435\u001b[0m         \u001b[38;5;124m\"\u001b[39m\u001b[38;5;124mthe main namespace in the future. Use an array with a string \u001b[39m\u001b[38;5;124m\"\u001b[39m\n\u001b[0;32m    436\u001b[0m         \u001b[38;5;124m\"\u001b[39m\u001b[38;5;124mor bytes dtype instead.\u001b[39m\u001b[38;5;124m\"\u001b[39m, \u001b[38;5;167;01mDeprecationWarning\u001b[39;00m, stacklevel\u001b[38;5;241m=\u001b[39m\u001b[38;5;241m2\u001b[39m)\n",
      "\u001b[1;31mAttributeError\u001b[0m: `np.lookfor` was removed in the NumPy 2.0 release. Search NumPy's documentation directly."
     ]
    }
   ],
   "source": [
    "import numpy as np\n",
    "\n",
    "np.lookfor('log')\n",
    "\n",
    "#numpy does not work anymore and was removed so there is no way we can look for log"
   ]
  },
  {
   "cell_type": "markdown",
   "metadata": {},
   "source": [
    "7. (2 pts) Use boolean indexing to create an array of `True/False` using `origin` and the value 'US'."
   ]
  },
  {
   "cell_type": "code",
   "execution_count": 34,
   "metadata": {
    "scrolled": true
   },
   "outputs": [
    {
     "data": {
      "text/plain": [
       "array([ True,  True,  True,  True,  True,  True,  True,  True,  True,\n",
       "        True, False,  True,  True,  True,  True,  True,  True,  True,\n",
       "        True,  True, False,  True,  True,  True, False, False, False,\n",
       "       False, False, False,  True,  True,  True,  True,  True, False,\n",
       "        True, False,  True, False,  True,  True,  True,  True,  True,\n",
       "        True,  True,  True,  True,  True,  True,  True,  True,  True,\n",
       "        True,  True,  True, False, False, False, False, False, False,\n",
       "        True, False,  True, False,  True,  True,  True,  True,  True,\n",
       "        True,  True,  True,  True,  True,  True, False,  True,  True,\n",
       "        True,  True, False, False, False, False,  True, False, False,\n",
       "        True, False,  True,  True,  True,  True,  True,  True,  True,\n",
       "        True,  True,  True,  True,  True,  True,  True,  True,  True,\n",
       "        True, False,  True,  True,  True,  True,  True, False,  True,\n",
       "       False, False,  True,  True, False,  True,  True, False, False,\n",
       "       False, False,  True, False, False,  True,  True,  True,  True,\n",
       "        True, False,  True, False,  True,  True,  True,  True,  True,\n",
       "        True,  True,  True,  True, False, False, False, False, False,\n",
       "        True, False, False, False, False, False,  True,  True,  True,\n",
       "        True,  True,  True,  True,  True,  True,  True,  True,  True,\n",
       "        True,  True,  True, False,  True,  True,  True, False, False,\n",
       "       False,  True, False,  True, False, False, False, False, False,\n",
       "       False, False,  True,  True, False,  True,  True,  True,  True,\n",
       "        True,  True,  True,  True,  True,  True, False, False,  True,\n",
       "        True,  True,  True, False, False, False,  True, False,  True,\n",
       "       False, False, False,  True,  True,  True,  True, False,  True,\n",
       "       False,  True, False,  True,  True,  True,  True,  True,  True,\n",
       "        True,  True,  True,  True,  True,  True, False,  True, False,\n",
       "        True,  True,  True, False, False, False, False, False, False,\n",
       "        True, False, False, False,  True,  True,  True,  True,  True,\n",
       "        True,  True,  True,  True,  True,  True,  True,  True,  True,\n",
       "        True,  True,  True,  True, False, False,  True, False,  True,\n",
       "        True, False, False, False, False, False, False, False,  True,\n",
       "        True,  True,  True,  True,  True,  True,  True,  True,  True,\n",
       "        True,  True,  True, False, False,  True,  True, False,  True,\n",
       "       False,  True,  True,  True, False, False,  True,  True,  True,\n",
       "        True, False, False,  True, False,  True,  True,  True,  True,\n",
       "       False, False, False, False, False, False,  True, False, False,\n",
       "       False, False, False, False, False, False, False, False, False,\n",
       "       False,  True, False,  True,  True,  True,  True,  True, False,\n",
       "        True, False, False, False, False, False,  True,  True,  True,\n",
       "       False, False, False, False, False, False, False, False, False,\n",
       "       False, False,  True,  True,  True,  True,  True,  True,  True,\n",
       "        True,  True,  True,  True,  True, False, False, False,  True,\n",
       "        True, False, False, False, False, False, False,  True,  True,\n",
       "        True,  True, False,  True,  True,  True, False,  True,  True,\n",
       "        True])"
      ]
     },
     "execution_count": 34,
     "metadata": {},
     "output_type": "execute_result"
    }
   ],
   "source": [
    "origin == \"US\"\n"
   ]
  },
  {
   "cell_type": "markdown",
   "metadata": {},
   "source": [
    "8. (2 pts) Apply your index (from above) to the `car` array. You should now only see cars that are of US origin. "
   ]
  },
  {
   "cell_type": "code",
   "execution_count": 35,
   "metadata": {},
   "outputs": [
    {
     "data": {
      "text/plain": [
       "array(['Chevrolet Chevelle Malibu', 'Buick Skylark 320',\n",
       "       'Plymouth Satellite', 'AMC Rebel SST', 'Ford Torino',\n",
       "       'Ford Galaxie 500', 'Chevrolet Impala', 'Plymouth Fury iii',\n",
       "       'Pontiac Catalina', 'AMC Ambassador DPL',\n",
       "       'Chevrolet Chevelle Concours (sw)', 'Ford Torino (sw)',\n",
       "       'Plymouth Satellite (sw)', 'AMC Rebel SST (sw)',\n",
       "       'Dodge Challenger SE', \"Plymouth 'Cuda 340\",\n",
       "       'Ford Mustang Boss 302', 'Chevrolet Monte Carlo',\n",
       "       'Buick Estate Wagon (sw)', 'Plymouth Duster', 'AMC Hornet',\n",
       "       'Ford Maverick', 'AMC Gremlin', 'Ford F250', 'Chevy C20',\n",
       "       'Dodge D200', 'Hi 1200D', 'Chevrolet Vega 2300', 'Ford Pinto',\n",
       "       'AMC Gremlin', 'Plymouth Satellite Custom',\n",
       "       'Chevrolet Chevelle Malibu', 'Ford Torino 500', 'AMC Matador',\n",
       "       'Chevrolet Impala', 'Pontiac Catalina Brougham',\n",
       "       'Ford Galaxie 500', 'Plymouth Fury iii', 'Dodge Monaco (sw)',\n",
       "       'Ford Country Squire (sw)', 'Pontiac Safari (sw)',\n",
       "       'AMC Hornet Sportabout (sw)', 'Chevrolet Vega (sw)',\n",
       "       'Pontiac Firebird', 'Ford Mustang', 'Mercury Capri 2000',\n",
       "       'Plymouth Cricket', 'Dodge Colt Hardtop', 'Chevrolet Vega',\n",
       "       'Ford Pinto Runabout', 'Chevrolet Impala', 'Pontiac Catalina',\n",
       "       'Plymouth Fury III', 'Ford Galaxie 500', 'AMC Ambassador SST',\n",
       "       'Mercury Marquis', 'Buick LeSabre Custom',\n",
       "       'Oldsmobile Delta 88 Royale', 'Chrysler Newport Royal',\n",
       "       'AMC Matador (sw)', 'Chevrolet Chevelle Concours (sw)',\n",
       "       'Ford Gran Torino (sw)', 'Plymouth Satellite Custom (sw)',\n",
       "       'Ford Pinto (sw)', 'Dodge Colt (sw)', 'Buick Century 350',\n",
       "       'AMC Matador', 'Chevrolet Malibu', 'Ford Gran Torino',\n",
       "       'Dodge Coronet Custom', 'Mercury Marquis Brougham',\n",
       "       'Chevrolet Caprice Classic', 'Ford LTD',\n",
       "       'Plymouth Fury Gran Sedan', 'Chrysler New Yorker Brougham',\n",
       "       'Buick Electra 225 Custom', 'AMC Ambassador Brougham',\n",
       "       'Plymouth Valiant', 'Chevrolet Nova Custom', 'AMC Hornet',\n",
       "       'Ford Maverick', 'Plymouth Duster', 'Chevrolet Impala',\n",
       "       'Ford Country', 'Plymouth Custom Suburb',\n",
       "       'Oldsmobile Vista Cruiser', 'AMC Gremlin', 'Chevrolet Vega',\n",
       "       'Ford Pinto', 'Mercury Capri v6', 'Chevrolet Monte Carlo S',\n",
       "       'Pontiac Grand Prix', 'Dodge Dart Custom', 'Oldsmobile Omega',\n",
       "       'Plymouth Duster', 'Ford Maverick', 'AMC Hornet', 'Chevrolet Nova',\n",
       "       'Ford Pinto', 'Chevrolet Vega',\n",
       "       'Chevrolet Chevelle Malibu Classic', 'AMC Matador',\n",
       "       'Plymouth Satellite Sebring', 'Ford Gran Torino',\n",
       "       'Buick Century Luxus (sw)', 'Dodge Coronet Custom (sw)',\n",
       "       'Ford Gran Torino (sw)', 'AMC Matador (sw)', 'Dodge Colt',\n",
       "       'Plymouth Valiant Custom', 'Chevrolet Nova', 'Mercury Monarch',\n",
       "       'Ford Maverick', 'Pontiac Catalina', 'Chevrolet Bel Air',\n",
       "       'Plymouth Grand Fury', 'Ford LTD', 'Buick Century',\n",
       "       'Chevrolete Chevelle Malibu', 'AMC Matador', 'Plymouth Fury',\n",
       "       'Buick Skyhawk', 'Chevrolet Monza 2+2', 'Ford Mustang II',\n",
       "       'Ford Pinto', 'AMC Gremlin', 'Pontiac Astro', 'Ford Pinto',\n",
       "       'AMC Pacer', 'Capri ii', 'Dodge Colt',\n",
       "       'Chevrolet Chevelle Malibu Classic', 'Dodge Coronet Brougham',\n",
       "       'AMC Matador', 'Ford Gran Torino', 'Plymouth Valiant',\n",
       "       'Chevrolet Nova', 'Ford Maverick', 'AMC Hornet',\n",
       "       'Chevrolet Chevette', 'Chevrolet Woody', 'Dodge Aspen SE',\n",
       "       'Ford Grenada ghia', 'Pontiac Ventura SJ', 'AMC Pacer d/l',\n",
       "       'Ford Pinto', 'Plymouth Volare Premier v8', 'Cadillac Seville',\n",
       "       'Chevrolet C10', 'Ford F108', 'Dodge D100',\n",
       "       'Buick Opel Isuzu Deluxe', 'Plymouth Arrow GS',\n",
       "       'Chevrolet Caprice Classic', 'Oldsmobile Cutlass Supreme',\n",
       "       'Dodge Monaco Brougham', 'Mercury Cougar Brougham',\n",
       "       'Chevrolet Concours', 'Buick Skylark', 'Plymouth Volare Custom',\n",
       "       'Ford Grenada', 'Pontiac Grand Prix LJ',\n",
       "       'Chevrolet Monte Carlo Landau', 'Chrysler Cordoba',\n",
       "       'Ford Thunderbird', 'Pontiac Sunbird Coupe', 'Ford Mustang II 2+2',\n",
       "       'Chevrolet Chevette', 'Dodge Colt m/m', 'Ford Fiesta',\n",
       "       'Oldsmobile Cutlass Salon Brougham', 'Dodge Diplomat',\n",
       "       'Mercury Monarch ghia', 'Pontiac Phoenix LJ', 'Chevrolet Malibu',\n",
       "       'Ford Fairmont (auto)', 'Ford Fairmont (man)', 'Plymouth Volare',\n",
       "       'AMC Concord', 'Buick Century Special', 'Mercury Zephyr',\n",
       "       'Dodge Aspen', 'AMC Concord d/l', 'Chevrolet Monte Carlo Landau',\n",
       "       'Buick Regal Sport Coupe (turbo)', 'Ford Futura',\n",
       "       'Dodge Magnum XE', 'Chevrolet Chevette', 'Dodge Omni',\n",
       "       'Plymouth Sapporo', 'Oldsmobile Starfire SX', 'Pontiac Lemans V6',\n",
       "       'Mercury Zephyr 6', 'Ford Fairmont 4', 'AMC Concord DL 6',\n",
       "       'Dodge Aspen 6', 'Chevrolet Caprice Classic', 'Ford LTD Landau',\n",
       "       'Mercury Grand Marquis', 'Dodge St. Regis',\n",
       "       'Buick Estate Wagon (sw)', 'Ford Country Squire (sw)',\n",
       "       'Chevrolet Malibu Classic (sw)',\n",
       "       'Chrysler Lebaron Town @ Country (sw)',\n",
       "       'Dodge Colt Hatchback Custom', 'AMC Spirit DL',\n",
       "       'Cadillac Eldorado', 'Oldsmobile Cutlass Salon Brougham',\n",
       "       'Plymouth Horizon', 'Plymouth Horizon TC3',\n",
       "       'Buick Skylark Limited', 'Chevrolet Citation',\n",
       "       'Oldsmobile Omega Brougham', 'Pontiac Phoenix',\n",
       "       'Chevrolet Chevette', 'Chevrolet Citation', 'Ford Fairmont',\n",
       "       'AMC Concord', 'Dodge Aspen', 'Dodge Colt', 'Ford Mustang Cobra',\n",
       "       'Plymouth Reliant', 'Buick Skylark', 'Dodge Aries Wagon (sw)',\n",
       "       'Chevrolet Citation', 'Plymouth Reliant', 'Plymouth Champ',\n",
       "       'Plymouth Horizon 4', 'Ford Escort 4W', 'Ford Escort 2H',\n",
       "       'Buick Century', 'Oldsmobile Cutlass LS', 'Ford Grenada gl',\n",
       "       'Chrysler Lebaron Salon', 'Chevrolet Cavalier',\n",
       "       'Chevrolet Cavalier Wagon', 'Chevrolet Cavalier 2-door',\n",
       "       'Pontiac J2000 SE Hatchback', 'Dodge Aries SE', 'Pontiac Phoenix',\n",
       "       'Ford Fairmont Futura', 'AMC Concord DL', 'Plymouth Horizon Miser',\n",
       "       'Mercury Lynx l', 'Buick Century Limited',\n",
       "       'Oldsmobile Cutlass Ciera (diesel)', 'Chrysler Lebaron Medallion',\n",
       "       'Ford Grenada l', 'Dodge Charger 2.2', 'Chevrolet Camaro',\n",
       "       'Ford Mustang GL', 'Dodge Rampage', 'Ford Ranger', 'Chevy S-10'],\n",
       "      dtype=object)"
      ]
     },
     "execution_count": 35,
     "metadata": {},
     "output_type": "execute_result"
    }
   ],
   "source": [
    "car[origin == \"US\"]"
   ]
  },
  {
   "cell_type": "markdown",
   "metadata": {},
   "source": [
    "### Use numpy or pandas to answer the following questions."
   ]
  },
  {
   "cell_type": "markdown",
   "metadata": {},
   "source": [
    "9. (3 pts) What is the average horsepower for `Europe` cars? (Hint: create a boolean index of 'US' apply it to horsepower and perform the calculation.)"
   ]
  },
  {
   "cell_type": "code",
   "execution_count": 46,
   "metadata": {},
   "outputs": [
    {
     "data": {
      "text/plain": [
       "np.float64(78.78082191780823)"
      ]
     },
     "execution_count": 46,
     "metadata": {},
     "output_type": "execute_result"
    }
   ],
   "source": [
    "import pandas as pd\n",
    "import numpy as np\n",
    "\n",
    "hp=horsepower[origin == \"Europe\"]\n",
    "np.mean(hp)"
   ]
  },
  {
   "cell_type": "markdown",
   "metadata": {},
   "source": [
    "10. (3 pts) On average are Japanese cars more fuel-efficient than US cars? Show the code that you used to determine this.  "
   ]
  },
  {
   "cell_type": "code",
   "execution_count": 71,
   "metadata": {},
   "outputs": [
    {
     "name": "stdout",
     "output_type": "stream",
     "text": [
      "Japanese cars are more fuel-efficient!\n"
     ]
    }
   ],
   "source": [
    "fuel=mpg[origin ==\"Japan\"]\n",
    "fuel2=mpg[origin == \"US\"]\n",
    "if np.mean(fuel)>np.mean(fuel2):\n",
    "    print(\"Japanese cars are more fuel-efficient!\")\n",
    "else:\n",
    "    print(\"US cars are more fuel-efficient!\")"
   ]
  },
  {
   "cell_type": "markdown",
   "metadata": {},
   "source": [
    "11. (3 pts) What is the correlation coefficient of `mpg` and `weight`? What is a correlation coefficient? What does the result indicate about the relationship between mpg and weight? "
   ]
  },
  {
   "cell_type": "code",
   "execution_count": 70,
   "metadata": {},
   "outputs": [
    {
     "data": {
      "text/plain": [
       "array([[ 1.        , -0.78750994],\n",
       "       [-0.78750994,  1.        ]])"
      ]
     },
     "execution_count": 70,
     "metadata": {},
     "output_type": "execute_result"
    }
   ],
   "source": [
    "#A correlation coefficeint is the measure of relationship between two variables.\n",
    "#The reuslt given indicates that the relationship is negative.\n",
    "\n",
    "cars_df = np.corrcoef(mpg,weight)\n",
    "cars_df"
   ]
  },
  {
   "cell_type": "markdown",
   "metadata": {},
   "source": [
    "Extra credit: (3 pts) Create a new pandas dataframe that has the average mpg, weight, and horsepower per country of origin"
   ]
  },
  {
   "cell_type": "code",
   "execution_count": null,
   "metadata": {},
   "outputs": [],
   "source": []
  }
 ],
 "metadata": {
  "kernelspec": {
   "display_name": "Python 3 (ipykernel)",
   "language": "python",
   "name": "python3"
  },
  "language_info": {
   "codemirror_mode": {
    "name": "ipython",
    "version": 3
   },
   "file_extension": ".py",
   "mimetype": "text/x-python",
   "name": "python",
   "nbconvert_exporter": "python",
   "pygments_lexer": "ipython3",
   "version": "3.9.11"
  }
 },
 "nbformat": 4,
 "nbformat_minor": 4
}
